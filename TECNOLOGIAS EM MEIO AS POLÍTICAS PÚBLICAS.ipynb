{
  "nbformat": 4,
  "nbformat_minor": 0,
  "metadata": {
    "colab": {
      "provenance": []
    },
    "kernelspec": {
      "name": "python3",
      "display_name": "Python 3"
    }
  },
  "cells": [
    {
      "cell_type": "markdown",
      "metadata": {
        "id": "view-in-github"
      },
      "source": [
        "<a href=\"https://colab.research.google.com/github/Patotricks15/Data-Science-and-Statistics/blob/master/QUANDO_AS_TECNOLOGIAS_ENCONTRAM_AS_POL%C3%8DTICAS_P%C3%9ABLICAS.ipynb\" target=\"_parent\"><img src=\"https://colab.research.google.com/assets/colab-badge.svg\" alt=\"Open In Colab\"/></a>"
      ]
    },
    {
      "cell_type": "markdown",
      "metadata": {
        "id": "R1FzyVb06Wn-"
      },
      "source": [
        "# **TECNOLOGIAS EM MEIO AS POLÍTICAS PÚBLICAS:** análise sobre a criminalidade em São Paulo a partir da plataforma.\n",
        "\n"
      ]
    },
    {
      "cell_type": "markdown",
      "metadata": {
        "id": "sfacDfkxurmH"
      },
      "source": [
        "#EXTRAÇÃO, LIMPEZA E ORGANIZAÇÃO DOS DADOS"
      ]
    },
    {
      "cell_type": "markdown",
      "source": [
        "# **Importações nescessarias:**\n",
        "\n",
        "*   `import pandas as pd:` Importa a biblioteca pandas, usada para manipulação de dados em formato de tabelas (DataFrames).\n",
        "\n",
        "*   `import matplotlib.pyplot as plt:` Importa a biblioteca matplotlib, usada para criar gráficos e visualizações.\n",
        "\n",
        "*   `import numpy as np:` Importa a biblioteca numpy, usada para trabalhar com arrays e operações matemáticas.\n",
        "\n",
        "*   `import seaborn as sns:` Importa a biblioteca seaborn, usada para criar gráficos estatísticos mais sofisticados e visualizações baseadas no matplotlib.\n",
        "\n",
        "*   `%matplotlib inline:` Essa linha é específica para Jupyter Notebooks e garante que os gráficos sejam exibidos diretamente nas células do notebook.\n",
        "\n",
        "*   `sns.set_style():` Define o estilo visual dos gráficos criados com o seaborn. Ele aplica um estilo de fundo e elementos de formatação para melhorar a aparência dos gráficos."
      ],
      "metadata": {
        "id": "NizNYRhPg-9F"
      }
    },
    {
      "cell_type": "code",
      "metadata": {
        "id": "RV5GLw_Y6VeB"
      },
      "source": [
        "import pandas as pd\n",
        "import matplotlib.pyplot as plt\n",
        "import numpy as np\n",
        "import seaborn as sns\n",
        "%matplotlib inline\n",
        "sns.set_style();"
      ],
      "execution_count": 47,
      "outputs": []
    },
    {
      "cell_type": "markdown",
      "source": [
        "Carrega os dados, organiza a coluna 'time' como índice de data e exibe a primeira linha do conjunto de dados."
      ],
      "metadata": {
        "id": "kjubJJQDgYlp"
      }
    },
    {
      "cell_type": "code",
      "metadata": {
        "id": "mxZnJJpt7mFc",
        "colab": {
          "base_uri": "https://localhost:8080/",
          "height": 248
        },
        "outputId": "da8db9e9-bcff-4056-ceb4-496d36753d44"
      },
      "source": [
        "df = pd.read_csv('https://www.dropbox.com/s/ghgb8xggbhgyuk3/dataset-limpo.csv?dl=1', parse_dates=['time'])\n",
        "\n",
        "df.index = pd.to_datetime(df['time'], infer_datetime_format=True)\n",
        "\n",
        "df.head(1)"
      ],
      "execution_count": 48,
      "outputs": [
        {
          "output_type": "stream",
          "name": "stderr",
          "text": [
            "<ipython-input-48-172fe2bcdf1b>:3: UserWarning: The argument 'infer_datetime_format' is deprecated and will be removed in a future version. A strict version of it is now the default, see https://pandas.pydata.org/pdeps/0004-consistent-to-datetime-parsing.html. You can safely remove this argument.\n",
            "  df.index = pd.to_datetime(df['time'], infer_datetime_format=True)\n"
          ]
        },
        {
          "output_type": "execute_result",
          "data": {
            "text/plain": [
              "                        id   bairro               created_at  \\\n",
              "time                                                           \n",
              "2010-12-20 20:30:00  49787  Butantã  2015-06-16 23:34:01.000   \n",
              "\n",
              "                                                             descricao  \\\n",
              "time                                                                     \n",
              "2010-12-20 20:30:00  5 bandidos, armas, entraram em casa e vasculha...   \n",
              "\n",
              "                                                  endereco   id.1  \\\n",
              "time                                                                \n",
              "2010-12-20 20:30:00  Avenida Trona Constanzo, 177, Butantã  49787   \n",
              "\n",
              "                    ip_address_origin   latitude  longitude registrou_bo  ...  \\\n",
              "time                                                                      ...   \n",
              "2010-12-20 20:30:00               NaN -23.580973 -46.719192         True  ...   \n",
              "\n",
              "                     Estepe  MP4 ou Ipod Móveis Notebook  Outros  Relógio  \\\n",
              "time                                                                        \n",
              "2010-12-20 20:30:00     NaN         True    NaN     True     NaN      NaN   \n",
              "\n",
              "                      Som Tablet    Tv                time  \n",
              "time                                                        \n",
              "2010-12-20 20:30:00  True   True  True 2010-12-20 20:30:00  \n",
              "\n",
              "[1 rows x 36 columns]"
            ],
            "text/html": [
              "\n",
              "  <div id=\"df-109cd6bd-ac11-4f4a-8ea8-6b1ae41cf1fb\" class=\"colab-df-container\">\n",
              "    <div>\n",
              "<style scoped>\n",
              "    .dataframe tbody tr th:only-of-type {\n",
              "        vertical-align: middle;\n",
              "    }\n",
              "\n",
              "    .dataframe tbody tr th {\n",
              "        vertical-align: top;\n",
              "    }\n",
              "\n",
              "    .dataframe thead th {\n",
              "        text-align: right;\n",
              "    }\n",
              "</style>\n",
              "<table border=\"1\" class=\"dataframe\">\n",
              "  <thead>\n",
              "    <tr style=\"text-align: right;\">\n",
              "      <th></th>\n",
              "      <th>id</th>\n",
              "      <th>bairro</th>\n",
              "      <th>created_at</th>\n",
              "      <th>descricao</th>\n",
              "      <th>endereco</th>\n",
              "      <th>id.1</th>\n",
              "      <th>ip_address_origin</th>\n",
              "      <th>latitude</th>\n",
              "      <th>longitude</th>\n",
              "      <th>registrou_bo</th>\n",
              "      <th>...</th>\n",
              "      <th>Estepe</th>\n",
              "      <th>MP4 ou Ipod</th>\n",
              "      <th>Móveis</th>\n",
              "      <th>Notebook</th>\n",
              "      <th>Outros</th>\n",
              "      <th>Relógio</th>\n",
              "      <th>Som</th>\n",
              "      <th>Tablet</th>\n",
              "      <th>Tv</th>\n",
              "      <th>time</th>\n",
              "    </tr>\n",
              "    <tr>\n",
              "      <th>time</th>\n",
              "      <th></th>\n",
              "      <th></th>\n",
              "      <th></th>\n",
              "      <th></th>\n",
              "      <th></th>\n",
              "      <th></th>\n",
              "      <th></th>\n",
              "      <th></th>\n",
              "      <th></th>\n",
              "      <th></th>\n",
              "      <th></th>\n",
              "      <th></th>\n",
              "      <th></th>\n",
              "      <th></th>\n",
              "      <th></th>\n",
              "      <th></th>\n",
              "      <th></th>\n",
              "      <th></th>\n",
              "      <th></th>\n",
              "      <th></th>\n",
              "      <th></th>\n",
              "    </tr>\n",
              "  </thead>\n",
              "  <tbody>\n",
              "    <tr>\n",
              "      <th>2010-12-20 20:30:00</th>\n",
              "      <td>49787</td>\n",
              "      <td>Butantã</td>\n",
              "      <td>2015-06-16 23:34:01.000</td>\n",
              "      <td>5 bandidos, armas, entraram em casa e vasculha...</td>\n",
              "      <td>Avenida Trona Constanzo, 177, Butantã</td>\n",
              "      <td>49787</td>\n",
              "      <td>NaN</td>\n",
              "      <td>-23.580973</td>\n",
              "      <td>-46.719192</td>\n",
              "      <td>True</td>\n",
              "      <td>...</td>\n",
              "      <td>NaN</td>\n",
              "      <td>True</td>\n",
              "      <td>NaN</td>\n",
              "      <td>True</td>\n",
              "      <td>NaN</td>\n",
              "      <td>NaN</td>\n",
              "      <td>True</td>\n",
              "      <td>True</td>\n",
              "      <td>True</td>\n",
              "      <td>2010-12-20 20:30:00</td>\n",
              "    </tr>\n",
              "  </tbody>\n",
              "</table>\n",
              "<p>1 rows × 36 columns</p>\n",
              "</div>\n",
              "    <div class=\"colab-df-buttons\">\n",
              "\n",
              "  <div class=\"colab-df-container\">\n",
              "    <button class=\"colab-df-convert\" onclick=\"convertToInteractive('df-109cd6bd-ac11-4f4a-8ea8-6b1ae41cf1fb')\"\n",
              "            title=\"Convert this dataframe to an interactive table.\"\n",
              "            style=\"display:none;\">\n",
              "\n",
              "  <svg xmlns=\"http://www.w3.org/2000/svg\" height=\"24px\" viewBox=\"0 -960 960 960\">\n",
              "    <path d=\"M120-120v-720h720v720H120Zm60-500h600v-160H180v160Zm220 220h160v-160H400v160Zm0 220h160v-160H400v160ZM180-400h160v-160H180v160Zm440 0h160v-160H620v160ZM180-180h160v-160H180v160Zm440 0h160v-160H620v160Z\"/>\n",
              "  </svg>\n",
              "    </button>\n",
              "\n",
              "  <style>\n",
              "    .colab-df-container {\n",
              "      display:flex;\n",
              "      gap: 12px;\n",
              "    }\n",
              "\n",
              "    .colab-df-convert {\n",
              "      background-color: #E8F0FE;\n",
              "      border: none;\n",
              "      border-radius: 50%;\n",
              "      cursor: pointer;\n",
              "      display: none;\n",
              "      fill: #1967D2;\n",
              "      height: 32px;\n",
              "      padding: 0 0 0 0;\n",
              "      width: 32px;\n",
              "    }\n",
              "\n",
              "    .colab-df-convert:hover {\n",
              "      background-color: #E2EBFA;\n",
              "      box-shadow: 0px 1px 2px rgba(60, 64, 67, 0.3), 0px 1px 3px 1px rgba(60, 64, 67, 0.15);\n",
              "      fill: #174EA6;\n",
              "    }\n",
              "\n",
              "    .colab-df-buttons div {\n",
              "      margin-bottom: 4px;\n",
              "    }\n",
              "\n",
              "    [theme=dark] .colab-df-convert {\n",
              "      background-color: #3B4455;\n",
              "      fill: #D2E3FC;\n",
              "    }\n",
              "\n",
              "    [theme=dark] .colab-df-convert:hover {\n",
              "      background-color: #434B5C;\n",
              "      box-shadow: 0px 1px 3px 1px rgba(0, 0, 0, 0.15);\n",
              "      filter: drop-shadow(0px 1px 2px rgba(0, 0, 0, 0.3));\n",
              "      fill: #FFFFFF;\n",
              "    }\n",
              "  </style>\n",
              "\n",
              "    <script>\n",
              "      const buttonEl =\n",
              "        document.querySelector('#df-109cd6bd-ac11-4f4a-8ea8-6b1ae41cf1fb button.colab-df-convert');\n",
              "      buttonEl.style.display =\n",
              "        google.colab.kernel.accessAllowed ? 'block' : 'none';\n",
              "\n",
              "      async function convertToInteractive(key) {\n",
              "        const element = document.querySelector('#df-109cd6bd-ac11-4f4a-8ea8-6b1ae41cf1fb');\n",
              "        const dataTable =\n",
              "          await google.colab.kernel.invokeFunction('convertToInteractive',\n",
              "                                                    [key], {});\n",
              "        if (!dataTable) return;\n",
              "\n",
              "        const docLinkHtml = 'Like what you see? Visit the ' +\n",
              "          '<a target=\"_blank\" href=https://colab.research.google.com/notebooks/data_table.ipynb>data table notebook</a>'\n",
              "          + ' to learn more about interactive tables.';\n",
              "        element.innerHTML = '';\n",
              "        dataTable['output_type'] = 'display_data';\n",
              "        await google.colab.output.renderOutput(dataTable, element);\n",
              "        const docLink = document.createElement('div');\n",
              "        docLink.innerHTML = docLinkHtml;\n",
              "        element.appendChild(docLink);\n",
              "      }\n",
              "    </script>\n",
              "  </div>\n",
              "\n",
              "\n",
              "    </div>\n",
              "  </div>\n"
            ],
            "application/vnd.google.colaboratory.intrinsic+json": {
              "type": "dataframe",
              "variable_name": "df"
            }
          },
          "metadata": {},
          "execution_count": 48
        }
      ]
    },
    {
      "cell_type": "markdown",
      "source": [
        "Exibe informações gerais sobre o DataFrame df."
      ],
      "metadata": {
        "id": "oMRB1je4gO_z"
      }
    },
    {
      "cell_type": "code",
      "metadata": {
        "id": "5yF25vGj8MZA",
        "colab": {
          "base_uri": "https://localhost:8080/"
        },
        "outputId": "b7b3ac0c-0392-4c8d-b76a-84b66ad71114"
      },
      "source": [
        "df.info()"
      ],
      "execution_count": 49,
      "outputs": [
        {
          "output_type": "stream",
          "name": "stdout",
          "text": [
            "<class 'pandas.core.frame.DataFrame'>\n",
            "DatetimeIndex: 12899 entries, 2010-12-20 20:30:00 to 2012-03-02 09:44:00\n",
            "Data columns (total 36 columns):\n",
            " #   Column              Non-Null Count  Dtype         \n",
            "---  ------              --------------  -----         \n",
            " 0   id                  12899 non-null  int64         \n",
            " 1   bairro              11196 non-null  object        \n",
            " 2   created_at          12899 non-null  object        \n",
            " 3   descricao           12898 non-null  object        \n",
            " 4   endereco            12899 non-null  object        \n",
            " 5   id.1                12899 non-null  int64         \n",
            " 6   ip_address_origin   11705 non-null  object        \n",
            " 7   latitude            12899 non-null  float64       \n",
            " 8   longitude           12899 non-null  float64       \n",
            " 9   registrou_bo        12375 non-null  object        \n",
            " 10  sexo                12899 non-null  int64         \n",
            " 11  tipo_assalto_id     12899 non-null  int64         \n",
            " 12  titulo              12899 non-null  object        \n",
            " 13  uri                 12899 non-null  object        \n",
            " 14  user_id             1166 non-null   float64       \n",
            " 15  valor_prejuizo      12899 non-null  float64       \n",
            " 16  Bicicleta           256 non-null    object        \n",
            " 17  Bolsa ou Mochila    3631 non-null   object        \n",
            " 18  Carteira            4243 non-null   object        \n",
            " 19  Cartão de Crédito   2776 non-null   object        \n",
            " 20  Celular             8377 non-null   object        \n",
            " 21  Computador          112 non-null    object        \n",
            " 22  DVD                 94 non-null     object        \n",
            " 23  Dinheiro            1730 non-null   object        \n",
            " 24  Documentos          3660 non-null   object        \n",
            " 25  Equipamento de Som  239 non-null    object        \n",
            " 26  Estepe              324 non-null    object        \n",
            " 27  MP4 ou Ipod         552 non-null    object        \n",
            " 28  Móveis              45 non-null     object        \n",
            " 29  Notebook            764 non-null    object        \n",
            " 30  Outros              5243 non-null   object        \n",
            " 31  Relógio             1350 non-null   object        \n",
            " 32  Som                 106 non-null    object        \n",
            " 33  Tablet              443 non-null    object        \n",
            " 34  Tv                  178 non-null    object        \n",
            " 35  time                12899 non-null  datetime64[ns]\n",
            "dtypes: datetime64[ns](1), float64(4), int64(4), object(27)\n",
            "memory usage: 3.6+ MB\n"
          ]
        }
      ]
    },
    {
      "cell_type": "markdown",
      "source": [
        "Converte valores numéricos na coluna sexo para seus correspondentes rótulos de gênero (\"MASCULINO\" ou \"FEMININO\")."
      ],
      "metadata": {
        "id": "93E2zWcZgCWE"
      }
    },
    {
      "cell_type": "code",
      "metadata": {
        "id": "X4RIfxdTFYJx"
      },
      "source": [
        "def genero(i):\n",
        "    if i == 1:\n",
        "        return 'MASCULINO'\n",
        "    else:\n",
        "        return 'FEMININO'\n",
        "\n",
        "df['sexo'] = df['sexo'].apply(lambda i: genero(i))\n"
      ],
      "execution_count": 50,
      "outputs": []
    },
    {
      "cell_type": "markdown",
      "source": [
        "Prepara o DataFrame df_clean para garantir que as colunas relacionadas a objetos ou itens (como \"Bicicleta\", \"Celular\") não tenham valores nulos e sejam tratadas como strings."
      ],
      "metadata": {
        "id": "_IIOgBjCf4n_"
      }
    },
    {
      "cell_type": "code",
      "metadata": {
        "id": "IwAeBEs68kS-",
        "colab": {
          "base_uri": "https://localhost:8080/",
          "height": 308
        },
        "outputId": "64c9dee5-157b-4c88-87d6-60ebfbc803cc"
      },
      "source": [
        "df.describe(include='O')"
      ],
      "execution_count": 51,
      "outputs": [
        {
          "output_type": "execute_result",
          "data": {
            "text/plain": [
              "           bairro               created_at  \\\n",
              "count       11196                    12899   \n",
              "unique       1577                    12899   \n",
              "top     São Paulo  2013-08-22 01:49:00.275   \n",
              "freq          630                        1   \n",
              "\n",
              "                                                descricao  \\\n",
              "count                                               12898   \n",
              "unique                                              12898   \n",
              "top     Minha mochila estava nas costas, estava quase ...   \n",
              "freq                                                    1   \n",
              "\n",
              "                   endereco ip_address_origin registrou_bo       sexo  \\\n",
              "count                 12899             11705        12375      12899   \n",
              "unique                11986             10432            2          2   \n",
              "top     Carregando endereço         127.0.0.1         True  MASCULINO   \n",
              "freq                     15                94         7340       7901   \n",
              "\n",
              "                                    titulo  \\\n",
              "count                                12899   \n",
              "unique                               10169   \n",
              "top     Fui assaltado voltando do trabalho   \n",
              "freq                                   154   \n",
              "\n",
              "                                             uri Bicicleta  ...  \\\n",
              "count                                      12899       256  ...   \n",
              "unique                                     12899         1  ...   \n",
              "top     /denuncias/z3LYda-furto-dentro-do-onibus      True  ...   \n",
              "freq                                           1       256  ...   \n",
              "\n",
              "       Equipamento de Som Estepe MP4 ou Ipod Móveis Notebook Outros Relógio  \\\n",
              "count                 239    324         552     45      764   5243    1350   \n",
              "unique                  1      1           1      1        1      1       1   \n",
              "top                  True   True        True   True     True   True    True   \n",
              "freq                  239    324         552     45      764   5243    1350   \n",
              "\n",
              "         Som Tablet    Tv  \n",
              "count    106    443   178  \n",
              "unique     1      1     1  \n",
              "top     True   True  True  \n",
              "freq     106    443   178  \n",
              "\n",
              "[4 rows x 28 columns]"
            ],
            "text/html": [
              "\n",
              "  <div id=\"df-a589b7f2-c955-4fd8-a0d9-b4e375e1cdd3\" class=\"colab-df-container\">\n",
              "    <div>\n",
              "<style scoped>\n",
              "    .dataframe tbody tr th:only-of-type {\n",
              "        vertical-align: middle;\n",
              "    }\n",
              "\n",
              "    .dataframe tbody tr th {\n",
              "        vertical-align: top;\n",
              "    }\n",
              "\n",
              "    .dataframe thead th {\n",
              "        text-align: right;\n",
              "    }\n",
              "</style>\n",
              "<table border=\"1\" class=\"dataframe\">\n",
              "  <thead>\n",
              "    <tr style=\"text-align: right;\">\n",
              "      <th></th>\n",
              "      <th>bairro</th>\n",
              "      <th>created_at</th>\n",
              "      <th>descricao</th>\n",
              "      <th>endereco</th>\n",
              "      <th>ip_address_origin</th>\n",
              "      <th>registrou_bo</th>\n",
              "      <th>sexo</th>\n",
              "      <th>titulo</th>\n",
              "      <th>uri</th>\n",
              "      <th>Bicicleta</th>\n",
              "      <th>...</th>\n",
              "      <th>Equipamento de Som</th>\n",
              "      <th>Estepe</th>\n",
              "      <th>MP4 ou Ipod</th>\n",
              "      <th>Móveis</th>\n",
              "      <th>Notebook</th>\n",
              "      <th>Outros</th>\n",
              "      <th>Relógio</th>\n",
              "      <th>Som</th>\n",
              "      <th>Tablet</th>\n",
              "      <th>Tv</th>\n",
              "    </tr>\n",
              "  </thead>\n",
              "  <tbody>\n",
              "    <tr>\n",
              "      <th>count</th>\n",
              "      <td>11196</td>\n",
              "      <td>12899</td>\n",
              "      <td>12898</td>\n",
              "      <td>12899</td>\n",
              "      <td>11705</td>\n",
              "      <td>12375</td>\n",
              "      <td>12899</td>\n",
              "      <td>12899</td>\n",
              "      <td>12899</td>\n",
              "      <td>256</td>\n",
              "      <td>...</td>\n",
              "      <td>239</td>\n",
              "      <td>324</td>\n",
              "      <td>552</td>\n",
              "      <td>45</td>\n",
              "      <td>764</td>\n",
              "      <td>5243</td>\n",
              "      <td>1350</td>\n",
              "      <td>106</td>\n",
              "      <td>443</td>\n",
              "      <td>178</td>\n",
              "    </tr>\n",
              "    <tr>\n",
              "      <th>unique</th>\n",
              "      <td>1577</td>\n",
              "      <td>12899</td>\n",
              "      <td>12898</td>\n",
              "      <td>11986</td>\n",
              "      <td>10432</td>\n",
              "      <td>2</td>\n",
              "      <td>2</td>\n",
              "      <td>10169</td>\n",
              "      <td>12899</td>\n",
              "      <td>1</td>\n",
              "      <td>...</td>\n",
              "      <td>1</td>\n",
              "      <td>1</td>\n",
              "      <td>1</td>\n",
              "      <td>1</td>\n",
              "      <td>1</td>\n",
              "      <td>1</td>\n",
              "      <td>1</td>\n",
              "      <td>1</td>\n",
              "      <td>1</td>\n",
              "      <td>1</td>\n",
              "    </tr>\n",
              "    <tr>\n",
              "      <th>top</th>\n",
              "      <td>São Paulo</td>\n",
              "      <td>2013-08-22 01:49:00.275</td>\n",
              "      <td>Minha mochila estava nas costas, estava quase ...</td>\n",
              "      <td>Carregando endereço</td>\n",
              "      <td>127.0.0.1</td>\n",
              "      <td>True</td>\n",
              "      <td>MASCULINO</td>\n",
              "      <td>Fui assaltado voltando do trabalho</td>\n",
              "      <td>/denuncias/z3LYda-furto-dentro-do-onibus</td>\n",
              "      <td>True</td>\n",
              "      <td>...</td>\n",
              "      <td>True</td>\n",
              "      <td>True</td>\n",
              "      <td>True</td>\n",
              "      <td>True</td>\n",
              "      <td>True</td>\n",
              "      <td>True</td>\n",
              "      <td>True</td>\n",
              "      <td>True</td>\n",
              "      <td>True</td>\n",
              "      <td>True</td>\n",
              "    </tr>\n",
              "    <tr>\n",
              "      <th>freq</th>\n",
              "      <td>630</td>\n",
              "      <td>1</td>\n",
              "      <td>1</td>\n",
              "      <td>15</td>\n",
              "      <td>94</td>\n",
              "      <td>7340</td>\n",
              "      <td>7901</td>\n",
              "      <td>154</td>\n",
              "      <td>1</td>\n",
              "      <td>256</td>\n",
              "      <td>...</td>\n",
              "      <td>239</td>\n",
              "      <td>324</td>\n",
              "      <td>552</td>\n",
              "      <td>45</td>\n",
              "      <td>764</td>\n",
              "      <td>5243</td>\n",
              "      <td>1350</td>\n",
              "      <td>106</td>\n",
              "      <td>443</td>\n",
              "      <td>178</td>\n",
              "    </tr>\n",
              "  </tbody>\n",
              "</table>\n",
              "<p>4 rows × 28 columns</p>\n",
              "</div>\n",
              "    <div class=\"colab-df-buttons\">\n",
              "\n",
              "  <div class=\"colab-df-container\">\n",
              "    <button class=\"colab-df-convert\" onclick=\"convertToInteractive('df-a589b7f2-c955-4fd8-a0d9-b4e375e1cdd3')\"\n",
              "            title=\"Convert this dataframe to an interactive table.\"\n",
              "            style=\"display:none;\">\n",
              "\n",
              "  <svg xmlns=\"http://www.w3.org/2000/svg\" height=\"24px\" viewBox=\"0 -960 960 960\">\n",
              "    <path d=\"M120-120v-720h720v720H120Zm60-500h600v-160H180v160Zm220 220h160v-160H400v160Zm0 220h160v-160H400v160ZM180-400h160v-160H180v160Zm440 0h160v-160H620v160ZM180-180h160v-160H180v160Zm440 0h160v-160H620v160Z\"/>\n",
              "  </svg>\n",
              "    </button>\n",
              "\n",
              "  <style>\n",
              "    .colab-df-container {\n",
              "      display:flex;\n",
              "      gap: 12px;\n",
              "    }\n",
              "\n",
              "    .colab-df-convert {\n",
              "      background-color: #E8F0FE;\n",
              "      border: none;\n",
              "      border-radius: 50%;\n",
              "      cursor: pointer;\n",
              "      display: none;\n",
              "      fill: #1967D2;\n",
              "      height: 32px;\n",
              "      padding: 0 0 0 0;\n",
              "      width: 32px;\n",
              "    }\n",
              "\n",
              "    .colab-df-convert:hover {\n",
              "      background-color: #E2EBFA;\n",
              "      box-shadow: 0px 1px 2px rgba(60, 64, 67, 0.3), 0px 1px 3px 1px rgba(60, 64, 67, 0.15);\n",
              "      fill: #174EA6;\n",
              "    }\n",
              "\n",
              "    .colab-df-buttons div {\n",
              "      margin-bottom: 4px;\n",
              "    }\n",
              "\n",
              "    [theme=dark] .colab-df-convert {\n",
              "      background-color: #3B4455;\n",
              "      fill: #D2E3FC;\n",
              "    }\n",
              "\n",
              "    [theme=dark] .colab-df-convert:hover {\n",
              "      background-color: #434B5C;\n",
              "      box-shadow: 0px 1px 3px 1px rgba(0, 0, 0, 0.15);\n",
              "      filter: drop-shadow(0px 1px 2px rgba(0, 0, 0, 0.3));\n",
              "      fill: #FFFFFF;\n",
              "    }\n",
              "  </style>\n",
              "\n",
              "    <script>\n",
              "      const buttonEl =\n",
              "        document.querySelector('#df-a589b7f2-c955-4fd8-a0d9-b4e375e1cdd3 button.colab-df-convert');\n",
              "      buttonEl.style.display =\n",
              "        google.colab.kernel.accessAllowed ? 'block' : 'none';\n",
              "\n",
              "      async function convertToInteractive(key) {\n",
              "        const element = document.querySelector('#df-a589b7f2-c955-4fd8-a0d9-b4e375e1cdd3');\n",
              "        const dataTable =\n",
              "          await google.colab.kernel.invokeFunction('convertToInteractive',\n",
              "                                                    [key], {});\n",
              "        if (!dataTable) return;\n",
              "\n",
              "        const docLinkHtml = 'Like what you see? Visit the ' +\n",
              "          '<a target=\"_blank\" href=https://colab.research.google.com/notebooks/data_table.ipynb>data table notebook</a>'\n",
              "          + ' to learn more about interactive tables.';\n",
              "        element.innerHTML = '';\n",
              "        dataTable['output_type'] = 'display_data';\n",
              "        await google.colab.output.renderOutput(dataTable, element);\n",
              "        const docLink = document.createElement('div');\n",
              "        docLink.innerHTML = docLinkHtml;\n",
              "        element.appendChild(docLink);\n",
              "      }\n",
              "    </script>\n",
              "  </div>\n",
              "\n",
              "\n",
              "<div id=\"df-a424d965-1c12-4bfa-aead-cbf626d01f3e\">\n",
              "  <button class=\"colab-df-quickchart\" onclick=\"quickchart('df-a424d965-1c12-4bfa-aead-cbf626d01f3e')\"\n",
              "            title=\"Suggest charts\"\n",
              "            style=\"display:none;\">\n",
              "\n",
              "<svg xmlns=\"http://www.w3.org/2000/svg\" height=\"24px\"viewBox=\"0 0 24 24\"\n",
              "     width=\"24px\">\n",
              "    <g>\n",
              "        <path d=\"M19 3H5c-1.1 0-2 .9-2 2v14c0 1.1.9 2 2 2h14c1.1 0 2-.9 2-2V5c0-1.1-.9-2-2-2zM9 17H7v-7h2v7zm4 0h-2V7h2v10zm4 0h-2v-4h2v4z\"/>\n",
              "    </g>\n",
              "</svg>\n",
              "  </button>\n",
              "\n",
              "<style>\n",
              "  .colab-df-quickchart {\n",
              "      --bg-color: #E8F0FE;\n",
              "      --fill-color: #1967D2;\n",
              "      --hover-bg-color: #E2EBFA;\n",
              "      --hover-fill-color: #174EA6;\n",
              "      --disabled-fill-color: #AAA;\n",
              "      --disabled-bg-color: #DDD;\n",
              "  }\n",
              "\n",
              "  [theme=dark] .colab-df-quickchart {\n",
              "      --bg-color: #3B4455;\n",
              "      --fill-color: #D2E3FC;\n",
              "      --hover-bg-color: #434B5C;\n",
              "      --hover-fill-color: #FFFFFF;\n",
              "      --disabled-bg-color: #3B4455;\n",
              "      --disabled-fill-color: #666;\n",
              "  }\n",
              "\n",
              "  .colab-df-quickchart {\n",
              "    background-color: var(--bg-color);\n",
              "    border: none;\n",
              "    border-radius: 50%;\n",
              "    cursor: pointer;\n",
              "    display: none;\n",
              "    fill: var(--fill-color);\n",
              "    height: 32px;\n",
              "    padding: 0;\n",
              "    width: 32px;\n",
              "  }\n",
              "\n",
              "  .colab-df-quickchart:hover {\n",
              "    background-color: var(--hover-bg-color);\n",
              "    box-shadow: 0 1px 2px rgba(60, 64, 67, 0.3), 0 1px 3px 1px rgba(60, 64, 67, 0.15);\n",
              "    fill: var(--button-hover-fill-color);\n",
              "  }\n",
              "\n",
              "  .colab-df-quickchart-complete:disabled,\n",
              "  .colab-df-quickchart-complete:disabled:hover {\n",
              "    background-color: var(--disabled-bg-color);\n",
              "    fill: var(--disabled-fill-color);\n",
              "    box-shadow: none;\n",
              "  }\n",
              "\n",
              "  .colab-df-spinner {\n",
              "    border: 2px solid var(--fill-color);\n",
              "    border-color: transparent;\n",
              "    border-bottom-color: var(--fill-color);\n",
              "    animation:\n",
              "      spin 1s steps(1) infinite;\n",
              "  }\n",
              "\n",
              "  @keyframes spin {\n",
              "    0% {\n",
              "      border-color: transparent;\n",
              "      border-bottom-color: var(--fill-color);\n",
              "      border-left-color: var(--fill-color);\n",
              "    }\n",
              "    20% {\n",
              "      border-color: transparent;\n",
              "      border-left-color: var(--fill-color);\n",
              "      border-top-color: var(--fill-color);\n",
              "    }\n",
              "    30% {\n",
              "      border-color: transparent;\n",
              "      border-left-color: var(--fill-color);\n",
              "      border-top-color: var(--fill-color);\n",
              "      border-right-color: var(--fill-color);\n",
              "    }\n",
              "    40% {\n",
              "      border-color: transparent;\n",
              "      border-right-color: var(--fill-color);\n",
              "      border-top-color: var(--fill-color);\n",
              "    }\n",
              "    60% {\n",
              "      border-color: transparent;\n",
              "      border-right-color: var(--fill-color);\n",
              "    }\n",
              "    80% {\n",
              "      border-color: transparent;\n",
              "      border-right-color: var(--fill-color);\n",
              "      border-bottom-color: var(--fill-color);\n",
              "    }\n",
              "    90% {\n",
              "      border-color: transparent;\n",
              "      border-bottom-color: var(--fill-color);\n",
              "    }\n",
              "  }\n",
              "</style>\n",
              "\n",
              "  <script>\n",
              "    async function quickchart(key) {\n",
              "      const quickchartButtonEl =\n",
              "        document.querySelector('#' + key + ' button');\n",
              "      quickchartButtonEl.disabled = true;  // To prevent multiple clicks.\n",
              "      quickchartButtonEl.classList.add('colab-df-spinner');\n",
              "      try {\n",
              "        const charts = await google.colab.kernel.invokeFunction(\n",
              "            'suggestCharts', [key], {});\n",
              "      } catch (error) {\n",
              "        console.error('Error during call to suggestCharts:', error);\n",
              "      }\n",
              "      quickchartButtonEl.classList.remove('colab-df-spinner');\n",
              "      quickchartButtonEl.classList.add('colab-df-quickchart-complete');\n",
              "    }\n",
              "    (() => {\n",
              "      let quickchartButtonEl =\n",
              "        document.querySelector('#df-a424d965-1c12-4bfa-aead-cbf626d01f3e button');\n",
              "      quickchartButtonEl.style.display =\n",
              "        google.colab.kernel.accessAllowed ? 'block' : 'none';\n",
              "    })();\n",
              "  </script>\n",
              "</div>\n",
              "\n",
              "    </div>\n",
              "  </div>\n"
            ],
            "application/vnd.google.colaboratory.intrinsic+json": {
              "type": "dataframe"
            }
          },
          "metadata": {},
          "execution_count": 51
        }
      ]
    },
    {
      "cell_type": "markdown",
      "source": [
        "Prepara um DataFrame (df_clean) para que as colunas relacionadas aos objetos ou itens (como \"Bicicleta\", \"Celular\") tenham valores válidos (sem valores nulos) e sejam tratadas como strings, o que pode ser necessário para realizar análises ou modelagens posteriormente."
      ],
      "metadata": {
        "id": "gHQzDg3DfqhQ"
      }
    },
    {
      "cell_type": "code",
      "metadata": {
        "id": "s5lli6_WsOas",
        "colab": {
          "base_uri": "https://localhost:8080/",
          "height": 565
        },
        "outputId": "2820a5de-d546-49e5-c2cf-77be27f01cf4"
      },
      "source": [
        "df_clean = df.copy()\n",
        "\n",
        "bool_columns = ['Bicicleta', 'Bolsa ou Mochila', 'Carteira','Cartão de Crédito',\n",
        "'Celular', 'Computador','DVD', 'Dinheiro' , 'Documentos','Equipamento de Som','Estepe', 'MP4 ou Ipod', 'Móveis',\n",
        "'Notebook','Outros', 'Relógio', 'Som', 'Tablet', 'Tv', 'registrou_bo']\n",
        "\n",
        "df_clean[bool_columns] = df_clean[bool_columns].fillna(False)\n",
        "df_clean[bool_columns] = df_clean[bool_columns].astype(str)\n",
        "\n",
        "df_clean.head()"
      ],
      "execution_count": 52,
      "outputs": [
        {
          "output_type": "stream",
          "name": "stderr",
          "text": [
            "<ipython-input-52-feebdfdf32a2>:7: FutureWarning: Downcasting object dtype arrays on .fillna, .ffill, .bfill is deprecated and will change in a future version. Call result.infer_objects(copy=False) instead. To opt-in to the future behavior, set `pd.set_option('future.no_silent_downcasting', True)`\n",
            "  df_clean[bool_columns] = df_clean[bool_columns].fillna(False)\n"
          ]
        },
        {
          "output_type": "execute_result",
          "data": {
            "text/plain": [
              "                        id             bairro               created_at  \\\n",
              "time                                                                     \n",
              "2010-12-20 20:30:00  49787            Butantã  2015-06-16 23:34:01.000   \n",
              "2012-01-11 14:00:00  10679           Itaquera  2013-09-11 18:26:31.819   \n",
              "2012-01-11 14:00:00  10682           Itaquera  2013-09-11 18:42:07.858   \n",
              "2012-01-11 18:20:00   6166            Morumbi  2013-08-20 11:56:52.717   \n",
              "2012-01-11 08:15:00   6521  Alto de Pinheiros  2013-08-20 17:41:21.569   \n",
              "\n",
              "                                                             descricao  \\\n",
              "time                                                                     \n",
              "2010-12-20 20:30:00  5 bandidos, armas, entraram em casa e vasculha...   \n",
              "2012-01-11 14:00:00  Meu caso foi para o Pequenas Causas, ganhamos ...   \n",
              "2012-01-11 14:00:00  Meu caso foi para o Pequenas Causas, ganhamos ...   \n",
              "2012-01-11 18:20:00  Estava parada no semáforo, o bandido veio e es...   \n",
              "2012-01-11 08:15:00  Arrombaram o porta malas do meu carro e levara...   \n",
              "\n",
              "                                                              endereco   id.1  \\\n",
              "time                                                                            \n",
              "2010-12-20 20:30:00              Avenida Trona Constanzo, 177, Butantã  49787   \n",
              "2012-01-11 14:00:00  Avenida José Pinheiro Borges, 450-876 - Itaque...  10679   \n",
              "2012-01-11 14:00:00  Rua Corínthians - Itaquera - Shopping Metrô It...  10682   \n",
              "2012-01-11 18:20:00  Rua Pasquale Gallupi, 347 - Morumbi, São Paulo...   6166   \n",
              "2012-01-11 08:15:00  Avenida Professor Fonseca Rodrigues, 1655 - Al...   6521   \n",
              "\n",
              "                    ip_address_origin   latitude  longitude registrou_bo  ...  \\\n",
              "time                                                                      ...   \n",
              "2010-12-20 20:30:00               NaN -23.580973 -46.719192         True  ...   \n",
              "2012-01-11 14:00:00       187.11.1.51 -23.540105 -46.462872         True  ...   \n",
              "2012-01-11 14:00:00     189.19.160.82 -23.541765 -46.469562         True  ...   \n",
              "2012-01-11 18:20:00     199.67.140.46 -23.611693 -46.725935         True  ...   \n",
              "2012-01-11 08:15:00    187.92.158.154 -23.544564 -46.721567         True  ...   \n",
              "\n",
              "                    Estepe  MP4 ou Ipod Móveis Notebook  Outros  Relógio  \\\n",
              "time                                                                       \n",
              "2010-12-20 20:30:00  False         True  False     True   False    False   \n",
              "2012-01-11 14:00:00  False        False  False    False    True    False   \n",
              "2012-01-11 14:00:00  False        False  False    False    True    False   \n",
              "2012-01-11 18:20:00  False        False  False    False   False    False   \n",
              "2012-01-11 08:15:00  False        False  False     True    True    False   \n",
              "\n",
              "                       Som Tablet     Tv                time  \n",
              "time                                                          \n",
              "2010-12-20 20:30:00   True   True   True 2010-12-20 20:30:00  \n",
              "2012-01-11 14:00:00  False  False  False 2012-01-11 14:00:00  \n",
              "2012-01-11 14:00:00  False  False  False 2012-01-11 14:00:00  \n",
              "2012-01-11 18:20:00  False  False  False 2012-01-11 18:20:00  \n",
              "2012-01-11 08:15:00  False  False  False 2012-01-11 08:15:00  \n",
              "\n",
              "[5 rows x 36 columns]"
            ],
            "text/html": [
              "\n",
              "  <div id=\"df-908846dc-f01d-4cca-90ec-ae927e329bf0\" class=\"colab-df-container\">\n",
              "    <div>\n",
              "<style scoped>\n",
              "    .dataframe tbody tr th:only-of-type {\n",
              "        vertical-align: middle;\n",
              "    }\n",
              "\n",
              "    .dataframe tbody tr th {\n",
              "        vertical-align: top;\n",
              "    }\n",
              "\n",
              "    .dataframe thead th {\n",
              "        text-align: right;\n",
              "    }\n",
              "</style>\n",
              "<table border=\"1\" class=\"dataframe\">\n",
              "  <thead>\n",
              "    <tr style=\"text-align: right;\">\n",
              "      <th></th>\n",
              "      <th>id</th>\n",
              "      <th>bairro</th>\n",
              "      <th>created_at</th>\n",
              "      <th>descricao</th>\n",
              "      <th>endereco</th>\n",
              "      <th>id.1</th>\n",
              "      <th>ip_address_origin</th>\n",
              "      <th>latitude</th>\n",
              "      <th>longitude</th>\n",
              "      <th>registrou_bo</th>\n",
              "      <th>...</th>\n",
              "      <th>Estepe</th>\n",
              "      <th>MP4 ou Ipod</th>\n",
              "      <th>Móveis</th>\n",
              "      <th>Notebook</th>\n",
              "      <th>Outros</th>\n",
              "      <th>Relógio</th>\n",
              "      <th>Som</th>\n",
              "      <th>Tablet</th>\n",
              "      <th>Tv</th>\n",
              "      <th>time</th>\n",
              "    </tr>\n",
              "    <tr>\n",
              "      <th>time</th>\n",
              "      <th></th>\n",
              "      <th></th>\n",
              "      <th></th>\n",
              "      <th></th>\n",
              "      <th></th>\n",
              "      <th></th>\n",
              "      <th></th>\n",
              "      <th></th>\n",
              "      <th></th>\n",
              "      <th></th>\n",
              "      <th></th>\n",
              "      <th></th>\n",
              "      <th></th>\n",
              "      <th></th>\n",
              "      <th></th>\n",
              "      <th></th>\n",
              "      <th></th>\n",
              "      <th></th>\n",
              "      <th></th>\n",
              "      <th></th>\n",
              "      <th></th>\n",
              "    </tr>\n",
              "  </thead>\n",
              "  <tbody>\n",
              "    <tr>\n",
              "      <th>2010-12-20 20:30:00</th>\n",
              "      <td>49787</td>\n",
              "      <td>Butantã</td>\n",
              "      <td>2015-06-16 23:34:01.000</td>\n",
              "      <td>5 bandidos, armas, entraram em casa e vasculha...</td>\n",
              "      <td>Avenida Trona Constanzo, 177, Butantã</td>\n",
              "      <td>49787</td>\n",
              "      <td>NaN</td>\n",
              "      <td>-23.580973</td>\n",
              "      <td>-46.719192</td>\n",
              "      <td>True</td>\n",
              "      <td>...</td>\n",
              "      <td>False</td>\n",
              "      <td>True</td>\n",
              "      <td>False</td>\n",
              "      <td>True</td>\n",
              "      <td>False</td>\n",
              "      <td>False</td>\n",
              "      <td>True</td>\n",
              "      <td>True</td>\n",
              "      <td>True</td>\n",
              "      <td>2010-12-20 20:30:00</td>\n",
              "    </tr>\n",
              "    <tr>\n",
              "      <th>2012-01-11 14:00:00</th>\n",
              "      <td>10679</td>\n",
              "      <td>Itaquera</td>\n",
              "      <td>2013-09-11 18:26:31.819</td>\n",
              "      <td>Meu caso foi para o Pequenas Causas, ganhamos ...</td>\n",
              "      <td>Avenida José Pinheiro Borges, 450-876 - Itaque...</td>\n",
              "      <td>10679</td>\n",
              "      <td>187.11.1.51</td>\n",
              "      <td>-23.540105</td>\n",
              "      <td>-46.462872</td>\n",
              "      <td>True</td>\n",
              "      <td>...</td>\n",
              "      <td>False</td>\n",
              "      <td>False</td>\n",
              "      <td>False</td>\n",
              "      <td>False</td>\n",
              "      <td>True</td>\n",
              "      <td>False</td>\n",
              "      <td>False</td>\n",
              "      <td>False</td>\n",
              "      <td>False</td>\n",
              "      <td>2012-01-11 14:00:00</td>\n",
              "    </tr>\n",
              "    <tr>\n",
              "      <th>2012-01-11 14:00:00</th>\n",
              "      <td>10682</td>\n",
              "      <td>Itaquera</td>\n",
              "      <td>2013-09-11 18:42:07.858</td>\n",
              "      <td>Meu caso foi para o Pequenas Causas, ganhamos ...</td>\n",
              "      <td>Rua Corínthians - Itaquera - Shopping Metrô It...</td>\n",
              "      <td>10682</td>\n",
              "      <td>189.19.160.82</td>\n",
              "      <td>-23.541765</td>\n",
              "      <td>-46.469562</td>\n",
              "      <td>True</td>\n",
              "      <td>...</td>\n",
              "      <td>False</td>\n",
              "      <td>False</td>\n",
              "      <td>False</td>\n",
              "      <td>False</td>\n",
              "      <td>True</td>\n",
              "      <td>False</td>\n",
              "      <td>False</td>\n",
              "      <td>False</td>\n",
              "      <td>False</td>\n",
              "      <td>2012-01-11 14:00:00</td>\n",
              "    </tr>\n",
              "    <tr>\n",
              "      <th>2012-01-11 18:20:00</th>\n",
              "      <td>6166</td>\n",
              "      <td>Morumbi</td>\n",
              "      <td>2013-08-20 11:56:52.717</td>\n",
              "      <td>Estava parada no semáforo, o bandido veio e es...</td>\n",
              "      <td>Rua Pasquale Gallupi, 347 - Morumbi, São Paulo...</td>\n",
              "      <td>6166</td>\n",
              "      <td>199.67.140.46</td>\n",
              "      <td>-23.611693</td>\n",
              "      <td>-46.725935</td>\n",
              "      <td>True</td>\n",
              "      <td>...</td>\n",
              "      <td>False</td>\n",
              "      <td>False</td>\n",
              "      <td>False</td>\n",
              "      <td>False</td>\n",
              "      <td>False</td>\n",
              "      <td>False</td>\n",
              "      <td>False</td>\n",
              "      <td>False</td>\n",
              "      <td>False</td>\n",
              "      <td>2012-01-11 18:20:00</td>\n",
              "    </tr>\n",
              "    <tr>\n",
              "      <th>2012-01-11 08:15:00</th>\n",
              "      <td>6521</td>\n",
              "      <td>Alto de Pinheiros</td>\n",
              "      <td>2013-08-20 17:41:21.569</td>\n",
              "      <td>Arrombaram o porta malas do meu carro e levara...</td>\n",
              "      <td>Avenida Professor Fonseca Rodrigues, 1655 - Al...</td>\n",
              "      <td>6521</td>\n",
              "      <td>187.92.158.154</td>\n",
              "      <td>-23.544564</td>\n",
              "      <td>-46.721567</td>\n",
              "      <td>True</td>\n",
              "      <td>...</td>\n",
              "      <td>False</td>\n",
              "      <td>False</td>\n",
              "      <td>False</td>\n",
              "      <td>True</td>\n",
              "      <td>True</td>\n",
              "      <td>False</td>\n",
              "      <td>False</td>\n",
              "      <td>False</td>\n",
              "      <td>False</td>\n",
              "      <td>2012-01-11 08:15:00</td>\n",
              "    </tr>\n",
              "  </tbody>\n",
              "</table>\n",
              "<p>5 rows × 36 columns</p>\n",
              "</div>\n",
              "    <div class=\"colab-df-buttons\">\n",
              "\n",
              "  <div class=\"colab-df-container\">\n",
              "    <button class=\"colab-df-convert\" onclick=\"convertToInteractive('df-908846dc-f01d-4cca-90ec-ae927e329bf0')\"\n",
              "            title=\"Convert this dataframe to an interactive table.\"\n",
              "            style=\"display:none;\">\n",
              "\n",
              "  <svg xmlns=\"http://www.w3.org/2000/svg\" height=\"24px\" viewBox=\"0 -960 960 960\">\n",
              "    <path d=\"M120-120v-720h720v720H120Zm60-500h600v-160H180v160Zm220 220h160v-160H400v160Zm0 220h160v-160H400v160ZM180-400h160v-160H180v160Zm440 0h160v-160H620v160ZM180-180h160v-160H180v160Zm440 0h160v-160H620v160Z\"/>\n",
              "  </svg>\n",
              "    </button>\n",
              "\n",
              "  <style>\n",
              "    .colab-df-container {\n",
              "      display:flex;\n",
              "      gap: 12px;\n",
              "    }\n",
              "\n",
              "    .colab-df-convert {\n",
              "      background-color: #E8F0FE;\n",
              "      border: none;\n",
              "      border-radius: 50%;\n",
              "      cursor: pointer;\n",
              "      display: none;\n",
              "      fill: #1967D2;\n",
              "      height: 32px;\n",
              "      padding: 0 0 0 0;\n",
              "      width: 32px;\n",
              "    }\n",
              "\n",
              "    .colab-df-convert:hover {\n",
              "      background-color: #E2EBFA;\n",
              "      box-shadow: 0px 1px 2px rgba(60, 64, 67, 0.3), 0px 1px 3px 1px rgba(60, 64, 67, 0.15);\n",
              "      fill: #174EA6;\n",
              "    }\n",
              "\n",
              "    .colab-df-buttons div {\n",
              "      margin-bottom: 4px;\n",
              "    }\n",
              "\n",
              "    [theme=dark] .colab-df-convert {\n",
              "      background-color: #3B4455;\n",
              "      fill: #D2E3FC;\n",
              "    }\n",
              "\n",
              "    [theme=dark] .colab-df-convert:hover {\n",
              "      background-color: #434B5C;\n",
              "      box-shadow: 0px 1px 3px 1px rgba(0, 0, 0, 0.15);\n",
              "      filter: drop-shadow(0px 1px 2px rgba(0, 0, 0, 0.3));\n",
              "      fill: #FFFFFF;\n",
              "    }\n",
              "  </style>\n",
              "\n",
              "    <script>\n",
              "      const buttonEl =\n",
              "        document.querySelector('#df-908846dc-f01d-4cca-90ec-ae927e329bf0 button.colab-df-convert');\n",
              "      buttonEl.style.display =\n",
              "        google.colab.kernel.accessAllowed ? 'block' : 'none';\n",
              "\n",
              "      async function convertToInteractive(key) {\n",
              "        const element = document.querySelector('#df-908846dc-f01d-4cca-90ec-ae927e329bf0');\n",
              "        const dataTable =\n",
              "          await google.colab.kernel.invokeFunction('convertToInteractive',\n",
              "                                                    [key], {});\n",
              "        if (!dataTable) return;\n",
              "\n",
              "        const docLinkHtml = 'Like what you see? Visit the ' +\n",
              "          '<a target=\"_blank\" href=https://colab.research.google.com/notebooks/data_table.ipynb>data table notebook</a>'\n",
              "          + ' to learn more about interactive tables.';\n",
              "        element.innerHTML = '';\n",
              "        dataTable['output_type'] = 'display_data';\n",
              "        await google.colab.output.renderOutput(dataTable, element);\n",
              "        const docLink = document.createElement('div');\n",
              "        docLink.innerHTML = docLinkHtml;\n",
              "        element.appendChild(docLink);\n",
              "      }\n",
              "    </script>\n",
              "  </div>\n",
              "\n",
              "\n",
              "<div id=\"df-f3d0ebf6-a464-4c22-80c5-7a394684dfd9\">\n",
              "  <button class=\"colab-df-quickchart\" onclick=\"quickchart('df-f3d0ebf6-a464-4c22-80c5-7a394684dfd9')\"\n",
              "            title=\"Suggest charts\"\n",
              "            style=\"display:none;\">\n",
              "\n",
              "<svg xmlns=\"http://www.w3.org/2000/svg\" height=\"24px\"viewBox=\"0 0 24 24\"\n",
              "     width=\"24px\">\n",
              "    <g>\n",
              "        <path d=\"M19 3H5c-1.1 0-2 .9-2 2v14c0 1.1.9 2 2 2h14c1.1 0 2-.9 2-2V5c0-1.1-.9-2-2-2zM9 17H7v-7h2v7zm4 0h-2V7h2v10zm4 0h-2v-4h2v4z\"/>\n",
              "    </g>\n",
              "</svg>\n",
              "  </button>\n",
              "\n",
              "<style>\n",
              "  .colab-df-quickchart {\n",
              "      --bg-color: #E8F0FE;\n",
              "      --fill-color: #1967D2;\n",
              "      --hover-bg-color: #E2EBFA;\n",
              "      --hover-fill-color: #174EA6;\n",
              "      --disabled-fill-color: #AAA;\n",
              "      --disabled-bg-color: #DDD;\n",
              "  }\n",
              "\n",
              "  [theme=dark] .colab-df-quickchart {\n",
              "      --bg-color: #3B4455;\n",
              "      --fill-color: #D2E3FC;\n",
              "      --hover-bg-color: #434B5C;\n",
              "      --hover-fill-color: #FFFFFF;\n",
              "      --disabled-bg-color: #3B4455;\n",
              "      --disabled-fill-color: #666;\n",
              "  }\n",
              "\n",
              "  .colab-df-quickchart {\n",
              "    background-color: var(--bg-color);\n",
              "    border: none;\n",
              "    border-radius: 50%;\n",
              "    cursor: pointer;\n",
              "    display: none;\n",
              "    fill: var(--fill-color);\n",
              "    height: 32px;\n",
              "    padding: 0;\n",
              "    width: 32px;\n",
              "  }\n",
              "\n",
              "  .colab-df-quickchart:hover {\n",
              "    background-color: var(--hover-bg-color);\n",
              "    box-shadow: 0 1px 2px rgba(60, 64, 67, 0.3), 0 1px 3px 1px rgba(60, 64, 67, 0.15);\n",
              "    fill: var(--button-hover-fill-color);\n",
              "  }\n",
              "\n",
              "  .colab-df-quickchart-complete:disabled,\n",
              "  .colab-df-quickchart-complete:disabled:hover {\n",
              "    background-color: var(--disabled-bg-color);\n",
              "    fill: var(--disabled-fill-color);\n",
              "    box-shadow: none;\n",
              "  }\n",
              "\n",
              "  .colab-df-spinner {\n",
              "    border: 2px solid var(--fill-color);\n",
              "    border-color: transparent;\n",
              "    border-bottom-color: var(--fill-color);\n",
              "    animation:\n",
              "      spin 1s steps(1) infinite;\n",
              "  }\n",
              "\n",
              "  @keyframes spin {\n",
              "    0% {\n",
              "      border-color: transparent;\n",
              "      border-bottom-color: var(--fill-color);\n",
              "      border-left-color: var(--fill-color);\n",
              "    }\n",
              "    20% {\n",
              "      border-color: transparent;\n",
              "      border-left-color: var(--fill-color);\n",
              "      border-top-color: var(--fill-color);\n",
              "    }\n",
              "    30% {\n",
              "      border-color: transparent;\n",
              "      border-left-color: var(--fill-color);\n",
              "      border-top-color: var(--fill-color);\n",
              "      border-right-color: var(--fill-color);\n",
              "    }\n",
              "    40% {\n",
              "      border-color: transparent;\n",
              "      border-right-color: var(--fill-color);\n",
              "      border-top-color: var(--fill-color);\n",
              "    }\n",
              "    60% {\n",
              "      border-color: transparent;\n",
              "      border-right-color: var(--fill-color);\n",
              "    }\n",
              "    80% {\n",
              "      border-color: transparent;\n",
              "      border-right-color: var(--fill-color);\n",
              "      border-bottom-color: var(--fill-color);\n",
              "    }\n",
              "    90% {\n",
              "      border-color: transparent;\n",
              "      border-bottom-color: var(--fill-color);\n",
              "    }\n",
              "  }\n",
              "</style>\n",
              "\n",
              "  <script>\n",
              "    async function quickchart(key) {\n",
              "      const quickchartButtonEl =\n",
              "        document.querySelector('#' + key + ' button');\n",
              "      quickchartButtonEl.disabled = true;  // To prevent multiple clicks.\n",
              "      quickchartButtonEl.classList.add('colab-df-spinner');\n",
              "      try {\n",
              "        const charts = await google.colab.kernel.invokeFunction(\n",
              "            'suggestCharts', [key], {});\n",
              "      } catch (error) {\n",
              "        console.error('Error during call to suggestCharts:', error);\n",
              "      }\n",
              "      quickchartButtonEl.classList.remove('colab-df-spinner');\n",
              "      quickchartButtonEl.classList.add('colab-df-quickchart-complete');\n",
              "    }\n",
              "    (() => {\n",
              "      let quickchartButtonEl =\n",
              "        document.querySelector('#df-f3d0ebf6-a464-4c22-80c5-7a394684dfd9 button');\n",
              "      quickchartButtonEl.style.display =\n",
              "        google.colab.kernel.accessAllowed ? 'block' : 'none';\n",
              "    })();\n",
              "  </script>\n",
              "</div>\n",
              "\n",
              "    </div>\n",
              "  </div>\n"
            ],
            "application/vnd.google.colaboratory.intrinsic+json": {
              "type": "dataframe",
              "variable_name": "df_clean"
            }
          },
          "metadata": {},
          "execution_count": 52
        }
      ]
    },
    {
      "cell_type": "markdown",
      "source": [
        "Identifica e trata os dados ausentes no DataFrame df_clean, removendo as linhas com valores nulos na coluna 'bairro' e visualizando as primeiras linhas para verificar os dados após a limpeza."
      ],
      "metadata": {
        "id": "LXS9wO43e9Nu"
      }
    },
    {
      "cell_type": "code",
      "metadata": {
        "id": "qPYxOaA1tmmF",
        "colab": {
          "base_uri": "https://localhost:8080/",
          "height": 493
        },
        "outputId": "7e891cd0-2194-4525-c3a6-bccbd44d9093"
      },
      "source": [
        "(df_clean.isnull().sum() / df_clean.shape[0]).sort_values(ascending=False)\n",
        "df_clean.dropna(subset=['bairro'], axis=0, inplace=True)\n",
        "df.head()"
      ],
      "execution_count": 53,
      "outputs": [
        {
          "output_type": "execute_result",
          "data": {
            "text/plain": [
              "                        id             bairro               created_at  \\\n",
              "time                                                                     \n",
              "2010-12-20 20:30:00  49787            Butantã  2015-06-16 23:34:01.000   \n",
              "2012-01-11 14:00:00  10679           Itaquera  2013-09-11 18:26:31.819   \n",
              "2012-01-11 14:00:00  10682           Itaquera  2013-09-11 18:42:07.858   \n",
              "2012-01-11 18:20:00   6166            Morumbi  2013-08-20 11:56:52.717   \n",
              "2012-01-11 08:15:00   6521  Alto de Pinheiros  2013-08-20 17:41:21.569   \n",
              "\n",
              "                                                             descricao  \\\n",
              "time                                                                     \n",
              "2010-12-20 20:30:00  5 bandidos, armas, entraram em casa e vasculha...   \n",
              "2012-01-11 14:00:00  Meu caso foi para o Pequenas Causas, ganhamos ...   \n",
              "2012-01-11 14:00:00  Meu caso foi para o Pequenas Causas, ganhamos ...   \n",
              "2012-01-11 18:20:00  Estava parada no semáforo, o bandido veio e es...   \n",
              "2012-01-11 08:15:00  Arrombaram o porta malas do meu carro e levara...   \n",
              "\n",
              "                                                              endereco   id.1  \\\n",
              "time                                                                            \n",
              "2010-12-20 20:30:00              Avenida Trona Constanzo, 177, Butantã  49787   \n",
              "2012-01-11 14:00:00  Avenida José Pinheiro Borges, 450-876 - Itaque...  10679   \n",
              "2012-01-11 14:00:00  Rua Corínthians - Itaquera - Shopping Metrô It...  10682   \n",
              "2012-01-11 18:20:00  Rua Pasquale Gallupi, 347 - Morumbi, São Paulo...   6166   \n",
              "2012-01-11 08:15:00  Avenida Professor Fonseca Rodrigues, 1655 - Al...   6521   \n",
              "\n",
              "                    ip_address_origin   latitude  longitude registrou_bo  ...  \\\n",
              "time                                                                      ...   \n",
              "2010-12-20 20:30:00               NaN -23.580973 -46.719192         True  ...   \n",
              "2012-01-11 14:00:00       187.11.1.51 -23.540105 -46.462872         True  ...   \n",
              "2012-01-11 14:00:00     189.19.160.82 -23.541765 -46.469562         True  ...   \n",
              "2012-01-11 18:20:00     199.67.140.46 -23.611693 -46.725935         True  ...   \n",
              "2012-01-11 08:15:00    187.92.158.154 -23.544564 -46.721567         True  ...   \n",
              "\n",
              "                    Estepe  MP4 ou Ipod Móveis Notebook  Outros  Relógio  \\\n",
              "time                                                                       \n",
              "2010-12-20 20:30:00    NaN         True    NaN     True     NaN      NaN   \n",
              "2012-01-11 14:00:00    NaN          NaN    NaN      NaN    True      NaN   \n",
              "2012-01-11 14:00:00    NaN          NaN    NaN      NaN    True      NaN   \n",
              "2012-01-11 18:20:00    NaN          NaN    NaN      NaN     NaN      NaN   \n",
              "2012-01-11 08:15:00    NaN          NaN    NaN     True    True      NaN   \n",
              "\n",
              "                      Som Tablet    Tv                time  \n",
              "time                                                        \n",
              "2010-12-20 20:30:00  True   True  True 2010-12-20 20:30:00  \n",
              "2012-01-11 14:00:00   NaN    NaN   NaN 2012-01-11 14:00:00  \n",
              "2012-01-11 14:00:00   NaN    NaN   NaN 2012-01-11 14:00:00  \n",
              "2012-01-11 18:20:00   NaN    NaN   NaN 2012-01-11 18:20:00  \n",
              "2012-01-11 08:15:00   NaN    NaN   NaN 2012-01-11 08:15:00  \n",
              "\n",
              "[5 rows x 36 columns]"
            ],
            "text/html": [
              "\n",
              "  <div id=\"df-b2ab836b-47bd-4163-adcd-9e4b8522cf2d\" class=\"colab-df-container\">\n",
              "    <div>\n",
              "<style scoped>\n",
              "    .dataframe tbody tr th:only-of-type {\n",
              "        vertical-align: middle;\n",
              "    }\n",
              "\n",
              "    .dataframe tbody tr th {\n",
              "        vertical-align: top;\n",
              "    }\n",
              "\n",
              "    .dataframe thead th {\n",
              "        text-align: right;\n",
              "    }\n",
              "</style>\n",
              "<table border=\"1\" class=\"dataframe\">\n",
              "  <thead>\n",
              "    <tr style=\"text-align: right;\">\n",
              "      <th></th>\n",
              "      <th>id</th>\n",
              "      <th>bairro</th>\n",
              "      <th>created_at</th>\n",
              "      <th>descricao</th>\n",
              "      <th>endereco</th>\n",
              "      <th>id.1</th>\n",
              "      <th>ip_address_origin</th>\n",
              "      <th>latitude</th>\n",
              "      <th>longitude</th>\n",
              "      <th>registrou_bo</th>\n",
              "      <th>...</th>\n",
              "      <th>Estepe</th>\n",
              "      <th>MP4 ou Ipod</th>\n",
              "      <th>Móveis</th>\n",
              "      <th>Notebook</th>\n",
              "      <th>Outros</th>\n",
              "      <th>Relógio</th>\n",
              "      <th>Som</th>\n",
              "      <th>Tablet</th>\n",
              "      <th>Tv</th>\n",
              "      <th>time</th>\n",
              "    </tr>\n",
              "    <tr>\n",
              "      <th>time</th>\n",
              "      <th></th>\n",
              "      <th></th>\n",
              "      <th></th>\n",
              "      <th></th>\n",
              "      <th></th>\n",
              "      <th></th>\n",
              "      <th></th>\n",
              "      <th></th>\n",
              "      <th></th>\n",
              "      <th></th>\n",
              "      <th></th>\n",
              "      <th></th>\n",
              "      <th></th>\n",
              "      <th></th>\n",
              "      <th></th>\n",
              "      <th></th>\n",
              "      <th></th>\n",
              "      <th></th>\n",
              "      <th></th>\n",
              "      <th></th>\n",
              "      <th></th>\n",
              "    </tr>\n",
              "  </thead>\n",
              "  <tbody>\n",
              "    <tr>\n",
              "      <th>2010-12-20 20:30:00</th>\n",
              "      <td>49787</td>\n",
              "      <td>Butantã</td>\n",
              "      <td>2015-06-16 23:34:01.000</td>\n",
              "      <td>5 bandidos, armas, entraram em casa e vasculha...</td>\n",
              "      <td>Avenida Trona Constanzo, 177, Butantã</td>\n",
              "      <td>49787</td>\n",
              "      <td>NaN</td>\n",
              "      <td>-23.580973</td>\n",
              "      <td>-46.719192</td>\n",
              "      <td>True</td>\n",
              "      <td>...</td>\n",
              "      <td>NaN</td>\n",
              "      <td>True</td>\n",
              "      <td>NaN</td>\n",
              "      <td>True</td>\n",
              "      <td>NaN</td>\n",
              "      <td>NaN</td>\n",
              "      <td>True</td>\n",
              "      <td>True</td>\n",
              "      <td>True</td>\n",
              "      <td>2010-12-20 20:30:00</td>\n",
              "    </tr>\n",
              "    <tr>\n",
              "      <th>2012-01-11 14:00:00</th>\n",
              "      <td>10679</td>\n",
              "      <td>Itaquera</td>\n",
              "      <td>2013-09-11 18:26:31.819</td>\n",
              "      <td>Meu caso foi para o Pequenas Causas, ganhamos ...</td>\n",
              "      <td>Avenida José Pinheiro Borges, 450-876 - Itaque...</td>\n",
              "      <td>10679</td>\n",
              "      <td>187.11.1.51</td>\n",
              "      <td>-23.540105</td>\n",
              "      <td>-46.462872</td>\n",
              "      <td>True</td>\n",
              "      <td>...</td>\n",
              "      <td>NaN</td>\n",
              "      <td>NaN</td>\n",
              "      <td>NaN</td>\n",
              "      <td>NaN</td>\n",
              "      <td>True</td>\n",
              "      <td>NaN</td>\n",
              "      <td>NaN</td>\n",
              "      <td>NaN</td>\n",
              "      <td>NaN</td>\n",
              "      <td>2012-01-11 14:00:00</td>\n",
              "    </tr>\n",
              "    <tr>\n",
              "      <th>2012-01-11 14:00:00</th>\n",
              "      <td>10682</td>\n",
              "      <td>Itaquera</td>\n",
              "      <td>2013-09-11 18:42:07.858</td>\n",
              "      <td>Meu caso foi para o Pequenas Causas, ganhamos ...</td>\n",
              "      <td>Rua Corínthians - Itaquera - Shopping Metrô It...</td>\n",
              "      <td>10682</td>\n",
              "      <td>189.19.160.82</td>\n",
              "      <td>-23.541765</td>\n",
              "      <td>-46.469562</td>\n",
              "      <td>True</td>\n",
              "      <td>...</td>\n",
              "      <td>NaN</td>\n",
              "      <td>NaN</td>\n",
              "      <td>NaN</td>\n",
              "      <td>NaN</td>\n",
              "      <td>True</td>\n",
              "      <td>NaN</td>\n",
              "      <td>NaN</td>\n",
              "      <td>NaN</td>\n",
              "      <td>NaN</td>\n",
              "      <td>2012-01-11 14:00:00</td>\n",
              "    </tr>\n",
              "    <tr>\n",
              "      <th>2012-01-11 18:20:00</th>\n",
              "      <td>6166</td>\n",
              "      <td>Morumbi</td>\n",
              "      <td>2013-08-20 11:56:52.717</td>\n",
              "      <td>Estava parada no semáforo, o bandido veio e es...</td>\n",
              "      <td>Rua Pasquale Gallupi, 347 - Morumbi, São Paulo...</td>\n",
              "      <td>6166</td>\n",
              "      <td>199.67.140.46</td>\n",
              "      <td>-23.611693</td>\n",
              "      <td>-46.725935</td>\n",
              "      <td>True</td>\n",
              "      <td>...</td>\n",
              "      <td>NaN</td>\n",
              "      <td>NaN</td>\n",
              "      <td>NaN</td>\n",
              "      <td>NaN</td>\n",
              "      <td>NaN</td>\n",
              "      <td>NaN</td>\n",
              "      <td>NaN</td>\n",
              "      <td>NaN</td>\n",
              "      <td>NaN</td>\n",
              "      <td>2012-01-11 18:20:00</td>\n",
              "    </tr>\n",
              "    <tr>\n",
              "      <th>2012-01-11 08:15:00</th>\n",
              "      <td>6521</td>\n",
              "      <td>Alto de Pinheiros</td>\n",
              "      <td>2013-08-20 17:41:21.569</td>\n",
              "      <td>Arrombaram o porta malas do meu carro e levara...</td>\n",
              "      <td>Avenida Professor Fonseca Rodrigues, 1655 - Al...</td>\n",
              "      <td>6521</td>\n",
              "      <td>187.92.158.154</td>\n",
              "      <td>-23.544564</td>\n",
              "      <td>-46.721567</td>\n",
              "      <td>True</td>\n",
              "      <td>...</td>\n",
              "      <td>NaN</td>\n",
              "      <td>NaN</td>\n",
              "      <td>NaN</td>\n",
              "      <td>True</td>\n",
              "      <td>True</td>\n",
              "      <td>NaN</td>\n",
              "      <td>NaN</td>\n",
              "      <td>NaN</td>\n",
              "      <td>NaN</td>\n",
              "      <td>2012-01-11 08:15:00</td>\n",
              "    </tr>\n",
              "  </tbody>\n",
              "</table>\n",
              "<p>5 rows × 36 columns</p>\n",
              "</div>\n",
              "    <div class=\"colab-df-buttons\">\n",
              "\n",
              "  <div class=\"colab-df-container\">\n",
              "    <button class=\"colab-df-convert\" onclick=\"convertToInteractive('df-b2ab836b-47bd-4163-adcd-9e4b8522cf2d')\"\n",
              "            title=\"Convert this dataframe to an interactive table.\"\n",
              "            style=\"display:none;\">\n",
              "\n",
              "  <svg xmlns=\"http://www.w3.org/2000/svg\" height=\"24px\" viewBox=\"0 -960 960 960\">\n",
              "    <path d=\"M120-120v-720h720v720H120Zm60-500h600v-160H180v160Zm220 220h160v-160H400v160Zm0 220h160v-160H400v160ZM180-400h160v-160H180v160Zm440 0h160v-160H620v160ZM180-180h160v-160H180v160Zm440 0h160v-160H620v160Z\"/>\n",
              "  </svg>\n",
              "    </button>\n",
              "\n",
              "  <style>\n",
              "    .colab-df-container {\n",
              "      display:flex;\n",
              "      gap: 12px;\n",
              "    }\n",
              "\n",
              "    .colab-df-convert {\n",
              "      background-color: #E8F0FE;\n",
              "      border: none;\n",
              "      border-radius: 50%;\n",
              "      cursor: pointer;\n",
              "      display: none;\n",
              "      fill: #1967D2;\n",
              "      height: 32px;\n",
              "      padding: 0 0 0 0;\n",
              "      width: 32px;\n",
              "    }\n",
              "\n",
              "    .colab-df-convert:hover {\n",
              "      background-color: #E2EBFA;\n",
              "      box-shadow: 0px 1px 2px rgba(60, 64, 67, 0.3), 0px 1px 3px 1px rgba(60, 64, 67, 0.15);\n",
              "      fill: #174EA6;\n",
              "    }\n",
              "\n",
              "    .colab-df-buttons div {\n",
              "      margin-bottom: 4px;\n",
              "    }\n",
              "\n",
              "    [theme=dark] .colab-df-convert {\n",
              "      background-color: #3B4455;\n",
              "      fill: #D2E3FC;\n",
              "    }\n",
              "\n",
              "    [theme=dark] .colab-df-convert:hover {\n",
              "      background-color: #434B5C;\n",
              "      box-shadow: 0px 1px 3px 1px rgba(0, 0, 0, 0.15);\n",
              "      filter: drop-shadow(0px 1px 2px rgba(0, 0, 0, 0.3));\n",
              "      fill: #FFFFFF;\n",
              "    }\n",
              "  </style>\n",
              "\n",
              "    <script>\n",
              "      const buttonEl =\n",
              "        document.querySelector('#df-b2ab836b-47bd-4163-adcd-9e4b8522cf2d button.colab-df-convert');\n",
              "      buttonEl.style.display =\n",
              "        google.colab.kernel.accessAllowed ? 'block' : 'none';\n",
              "\n",
              "      async function convertToInteractive(key) {\n",
              "        const element = document.querySelector('#df-b2ab836b-47bd-4163-adcd-9e4b8522cf2d');\n",
              "        const dataTable =\n",
              "          await google.colab.kernel.invokeFunction('convertToInteractive',\n",
              "                                                    [key], {});\n",
              "        if (!dataTable) return;\n",
              "\n",
              "        const docLinkHtml = 'Like what you see? Visit the ' +\n",
              "          '<a target=\"_blank\" href=https://colab.research.google.com/notebooks/data_table.ipynb>data table notebook</a>'\n",
              "          + ' to learn more about interactive tables.';\n",
              "        element.innerHTML = '';\n",
              "        dataTable['output_type'] = 'display_data';\n",
              "        await google.colab.output.renderOutput(dataTable, element);\n",
              "        const docLink = document.createElement('div');\n",
              "        docLink.innerHTML = docLinkHtml;\n",
              "        element.appendChild(docLink);\n",
              "      }\n",
              "    </script>\n",
              "  </div>\n",
              "\n",
              "\n",
              "<div id=\"df-b38731b6-9bd2-41c2-8f70-c63fc8e079c8\">\n",
              "  <button class=\"colab-df-quickchart\" onclick=\"quickchart('df-b38731b6-9bd2-41c2-8f70-c63fc8e079c8')\"\n",
              "            title=\"Suggest charts\"\n",
              "            style=\"display:none;\">\n",
              "\n",
              "<svg xmlns=\"http://www.w3.org/2000/svg\" height=\"24px\"viewBox=\"0 0 24 24\"\n",
              "     width=\"24px\">\n",
              "    <g>\n",
              "        <path d=\"M19 3H5c-1.1 0-2 .9-2 2v14c0 1.1.9 2 2 2h14c1.1 0 2-.9 2-2V5c0-1.1-.9-2-2-2zM9 17H7v-7h2v7zm4 0h-2V7h2v10zm4 0h-2v-4h2v4z\"/>\n",
              "    </g>\n",
              "</svg>\n",
              "  </button>\n",
              "\n",
              "<style>\n",
              "  .colab-df-quickchart {\n",
              "      --bg-color: #E8F0FE;\n",
              "      --fill-color: #1967D2;\n",
              "      --hover-bg-color: #E2EBFA;\n",
              "      --hover-fill-color: #174EA6;\n",
              "      --disabled-fill-color: #AAA;\n",
              "      --disabled-bg-color: #DDD;\n",
              "  }\n",
              "\n",
              "  [theme=dark] .colab-df-quickchart {\n",
              "      --bg-color: #3B4455;\n",
              "      --fill-color: #D2E3FC;\n",
              "      --hover-bg-color: #434B5C;\n",
              "      --hover-fill-color: #FFFFFF;\n",
              "      --disabled-bg-color: #3B4455;\n",
              "      --disabled-fill-color: #666;\n",
              "  }\n",
              "\n",
              "  .colab-df-quickchart {\n",
              "    background-color: var(--bg-color);\n",
              "    border: none;\n",
              "    border-radius: 50%;\n",
              "    cursor: pointer;\n",
              "    display: none;\n",
              "    fill: var(--fill-color);\n",
              "    height: 32px;\n",
              "    padding: 0;\n",
              "    width: 32px;\n",
              "  }\n",
              "\n",
              "  .colab-df-quickchart:hover {\n",
              "    background-color: var(--hover-bg-color);\n",
              "    box-shadow: 0 1px 2px rgba(60, 64, 67, 0.3), 0 1px 3px 1px rgba(60, 64, 67, 0.15);\n",
              "    fill: var(--button-hover-fill-color);\n",
              "  }\n",
              "\n",
              "  .colab-df-quickchart-complete:disabled,\n",
              "  .colab-df-quickchart-complete:disabled:hover {\n",
              "    background-color: var(--disabled-bg-color);\n",
              "    fill: var(--disabled-fill-color);\n",
              "    box-shadow: none;\n",
              "  }\n",
              "\n",
              "  .colab-df-spinner {\n",
              "    border: 2px solid var(--fill-color);\n",
              "    border-color: transparent;\n",
              "    border-bottom-color: var(--fill-color);\n",
              "    animation:\n",
              "      spin 1s steps(1) infinite;\n",
              "  }\n",
              "\n",
              "  @keyframes spin {\n",
              "    0% {\n",
              "      border-color: transparent;\n",
              "      border-bottom-color: var(--fill-color);\n",
              "      border-left-color: var(--fill-color);\n",
              "    }\n",
              "    20% {\n",
              "      border-color: transparent;\n",
              "      border-left-color: var(--fill-color);\n",
              "      border-top-color: var(--fill-color);\n",
              "    }\n",
              "    30% {\n",
              "      border-color: transparent;\n",
              "      border-left-color: var(--fill-color);\n",
              "      border-top-color: var(--fill-color);\n",
              "      border-right-color: var(--fill-color);\n",
              "    }\n",
              "    40% {\n",
              "      border-color: transparent;\n",
              "      border-right-color: var(--fill-color);\n",
              "      border-top-color: var(--fill-color);\n",
              "    }\n",
              "    60% {\n",
              "      border-color: transparent;\n",
              "      border-right-color: var(--fill-color);\n",
              "    }\n",
              "    80% {\n",
              "      border-color: transparent;\n",
              "      border-right-color: var(--fill-color);\n",
              "      border-bottom-color: var(--fill-color);\n",
              "    }\n",
              "    90% {\n",
              "      border-color: transparent;\n",
              "      border-bottom-color: var(--fill-color);\n",
              "    }\n",
              "  }\n",
              "</style>\n",
              "\n",
              "  <script>\n",
              "    async function quickchart(key) {\n",
              "      const quickchartButtonEl =\n",
              "        document.querySelector('#' + key + ' button');\n",
              "      quickchartButtonEl.disabled = true;  // To prevent multiple clicks.\n",
              "      quickchartButtonEl.classList.add('colab-df-spinner');\n",
              "      try {\n",
              "        const charts = await google.colab.kernel.invokeFunction(\n",
              "            'suggestCharts', [key], {});\n",
              "      } catch (error) {\n",
              "        console.error('Error during call to suggestCharts:', error);\n",
              "      }\n",
              "      quickchartButtonEl.classList.remove('colab-df-spinner');\n",
              "      quickchartButtonEl.classList.add('colab-df-quickchart-complete');\n",
              "    }\n",
              "    (() => {\n",
              "      let quickchartButtonEl =\n",
              "        document.querySelector('#df-b38731b6-9bd2-41c2-8f70-c63fc8e079c8 button');\n",
              "      quickchartButtonEl.style.display =\n",
              "        google.colab.kernel.accessAllowed ? 'block' : 'none';\n",
              "    })();\n",
              "  </script>\n",
              "</div>\n",
              "\n",
              "    </div>\n",
              "  </div>\n"
            ],
            "application/vnd.google.colaboratory.intrinsic+json": {
              "type": "dataframe",
              "variable_name": "df"
            }
          },
          "metadata": {},
          "execution_count": 53
        }
      ]
    },
    {
      "cell_type": "markdown",
      "metadata": {
        "id": "jyXhaMIVvaBG"
      },
      "source": [
        "#ANÁLISE EXPLORATÓRIA\n",
        "\n",
        "---\n",
        "\n",
        "Depois de limpar os dados, iremos explorá-los. A fim de auxiliar governo e cidadãos, uma plataforma deve ser capaz de fornecer a maior quantidade de dados que puder, e serão esses os dados a serem analisados.\n",
        "\n",
        "*   **Quem** foi roubado?\n",
        "*   **O que** foi roubado?\n",
        "*   **Onde** foi roubado?\n",
        "*   **Quando** foi roubado?"
      ]
    },
    {
      "cell_type": "markdown",
      "metadata": {
        "id": "rmypNeNv3jKq"
      },
      "source": [
        "##QUEM FOI ROUBADO?\n",
        "\n",
        "---\n",
        "Se perguntar \"quem?\" é de grande importancia para formar uma base sobre o problema em questão. É impportante saber quem são os envolvidos no problema para que seeja possivel analisar e contorna-lo."
      ]
    },
    {
      "cell_type": "markdown",
      "metadata": {
        "id": "lyxnN3NVau1W"
      },
      "source": [
        "###Pessoas por gênero"
      ]
    },
    {
      "cell_type": "markdown",
      "metadata": {
        "id": "1Wc5lvkyl3py"
      },
      "source": [
        "####Estatística descritiva"
      ]
    },
    {
      "cell_type": "markdown",
      "source": [
        "Analisa a distribuição de sexo em um conjunto de dados (df), mais especificamente, calcula a quantidade e a porcentagem de homens e mulheres presentes na coluna sexo do DataFrame."
      ],
      "metadata": {
        "id": "YH7_-738di3d"
      }
    },
    {
      "cell_type": "code",
      "metadata": {
        "id": "QfnjVAULffz5"
      },
      "source": [
        "sexo = df['sexo'].value_counts()\n",
        "homens = sexo['MASCULINO']\n",
        "mulheres = sexo['FEMININO']\n",
        "masc_porc = sexo['MASCULINO']/(sexo['MASCULINO'] + sexo['FEMININO'])*100\n",
        "femi_porc = sexo['FEMININO']/(sexo['MASCULINO'] + sexo['FEMININO'])*100"
      ],
      "execution_count": 54,
      "outputs": []
    },
    {
      "cell_type": "markdown",
      "source": [
        "Análise por gênero."
      ],
      "metadata": {
        "id": "UStuMmSydWHX"
      }
    },
    {
      "cell_type": "code",
      "source": [
        "print('Homens: {} ({:.2f}%)'.format(homens,masc_porc))\n",
        "print('Mulheres: {} ({:.2f}%)'.format(mulheres,femi_porc))"
      ],
      "metadata": {
        "colab": {
          "base_uri": "https://localhost:8080/"
        },
        "id": "3N2JPkWiTsOY",
        "outputId": "7b7a5e58-01f2-49ed-cd79-1a3ddb45b31e"
      },
      "execution_count": 55,
      "outputs": [
        {
          "output_type": "stream",
          "name": "stdout",
          "text": [
            "Homens: 7901 (61.25%)\n",
            "Mulheres: 4998 (38.75%)\n"
          ]
        }
      ]
    },
    {
      "cell_type": "markdown",
      "metadata": {
        "id": "8vzfbPvLsach"
      },
      "source": [
        "A análise fica melhor quando **mostramos** os dados:"
      ]
    },
    {
      "cell_type": "markdown",
      "metadata": {
        "id": "aT05VIlyl9lo"
      },
      "source": [
        "####Visualização"
      ]
    },
    {
      "cell_type": "markdown",
      "source": [
        "Gráfico de pizza que mostra a distribuição do número de mortes por gênero (masculino e feminino) a partir dos dados de um DataFrame (df)."
      ],
      "metadata": {
        "id": "65iavqH9dHpR"
      }
    },
    {
      "cell_type": "code",
      "metadata": {
        "id": "GU3SPbXAvec-",
        "colab": {
          "base_uri": "https://localhost:8080/",
          "height": 662
        },
        "outputId": "32273a73-1013-4910-ef71-37bd331b2d1f"
      },
      "source": [
        "cor_genero = ['#6495ED','#FF69B4']\n",
        "fig = plt.figure(figsize=(7,7))\n",
        "sexo = df['sexo'].value_counts()\n",
        "sexo_num = [sexo[0],sexo[1]]\n",
        "plt.pie(sexo_num, labels=['MASCULINO','FEMININO'],colors=cor_genero)\n",
        "plt.title('Mortos por gênero',fontsize=21);"
      ],
      "execution_count": 56,
      "outputs": [
        {
          "output_type": "stream",
          "name": "stderr",
          "text": [
            "<ipython-input-56-dd46a976afc5>:4: FutureWarning: Series.__getitem__ treating keys as positions is deprecated. In a future version, integer keys will always be treated as labels (consistent with DataFrame behavior). To access a value by position, use `ser.iloc[pos]`\n",
            "  sexo_num = [sexo[0],sexo[1]]\n"
          ]
        },
        {
          "output_type": "display_data",
          "data": {
            "text/plain": [
              "<Figure size 700x700 with 1 Axes>"
            ],
            "image/png": "[encoded data removed]"
          },
          "metadata": {}
        }
      ]
    },
    {
      "cell_type": "markdown",
      "metadata": {
        "id": "7zCBbo-OaY8c"
      },
      "source": [
        "###Pessoas que registraram boletim de ocorrência"
      ]
    },
    {
      "cell_type": "markdown",
      "metadata": {
        "id": "0aZFgRfBlgJZ"
      },
      "source": [
        "####Estatística descritiva"
      ]
    },
    {
      "cell_type": "markdown",
      "metadata": {
        "id": "HbO3_wFvlsCO"
      },
      "source": [
        "####Visualização"
      ]
    },
    {
      "cell_type": "markdown",
      "metadata": {
        "id": "Y2w2eMVJiLi4"
      },
      "source": [
        "Calculando e armazenando a quantidade de registros e a porcentagem de pessoas que registraram um boletim de ocorrência (True) e as que não registraram (False)."
      ]
    },
    {
      "cell_type": "code",
      "metadata": {
        "id": "-QqbEn7rgg22"
      },
      "source": [
        "bo = df['registrou_bo'].value_counts()\n",
        "regist = bo[True]\n",
        "naoregist = bo[False]\n",
        "regist_porc = regist/(regist + naoregist)*100\n",
        "naoregist_porc = naoregist/(regist + naoregist)*100"
      ],
      "execution_count": 57,
      "outputs": []
    },
    {
      "cell_type": "markdown",
      "source": [
        "Cassificação dos usários que registram Boletim de Ocorrência e os que não registraram:"
      ],
      "metadata": {
        "id": "wtVfHlA9cgTy"
      }
    },
    {
      "cell_type": "code",
      "source": [
        "print('Registraram BO: {} ({:.2f}%)'.format(regist,regist_porc))\n",
        "print('Não registraram BO: {} ({:.2f}%)'.format(naoregist,naoregist_porc))"
      ],
      "metadata": {
        "colab": {
          "base_uri": "https://localhost:8080/"
        },
        "id": "FfQwxSvIT2TZ",
        "outputId": "4e3d06fc-85b8-425e-a265-fc59bfa5da76"
      },
      "execution_count": 58,
      "outputs": [
        {
          "output_type": "stream",
          "name": "stdout",
          "text": [
            "Registraram BO: 7340 (59.31%)\n",
            "Não registraram BO: 5035 (40.69%)\n"
          ]
        }
      ]
    },
    {
      "cell_type": "markdown",
      "source": [
        "Reinicia os índices do DataFrame df, fazendo com que eles comecem do zero e sejam numéricos de forma contínua."
      ],
      "metadata": {
        "id": "HsKfj2abcbmn"
      }
    },
    {
      "cell_type": "code",
      "source": [
        "df = df.reset_index(drop=True)"
      ],
      "metadata": {
        "id": "P4HqnD2JUO6A"
      },
      "execution_count": 59,
      "outputs": []
    },
    {
      "cell_type": "markdown",
      "source": [
        "Gráfico de barras que mostra a quantidade de pessoas que registraram ou não um Boletim de Ocorrência (BO)."
      ],
      "metadata": {
        "id": "lB1EgS-TcPGS"
      }
    },
    {
      "cell_type": "code",
      "metadata": {
        "id": "vAKq3XPhecTl",
        "colab": {
          "base_uri": "https://localhost:8080/",
          "height": 499
        },
        "outputId": "16e16e05-b5fd-4734-a9fb-32f13a64377d"
      },
      "source": [
        "fig = plt.figure(figsize=(10,5))\n",
        "sns.countplot(x='registrou_bo', data=df)\n",
        "plt.xlabel('Registrou BO?',fontsize=13)\n",
        "plt.ylabel('')\n",
        "plt.yticks(fontsize=11)\n",
        "plt.title('Pessoas que registraram Boletim de Ocorrência',fontsize=19);"
      ],
      "execution_count": 60,
      "outputs": [
        {
          "output_type": "display_data",
          "data": {
            "text/plain": [
              "<Figure size 1000x500 with 1 Axes>"
            ],
            "image/png": "[encoded data removed]"
          },
          "metadata": {}
        }
      ]
    },
    {
      "cell_type": "markdown",
      "source": [
        "Homens que registraram BO:"
      ],
      "metadata": {
        "id": "vpfV8tGAby7V"
      }
    },
    {
      "cell_type": "code",
      "source": [
        "df[(df['sexo'] == 'MASCULINO')&(df['registrou_bo'] == True)].shape[0]"
      ],
      "metadata": {
        "colab": {
          "base_uri": "https://localhost:8080/"
        },
        "id": "FYo1aHmAUUP8",
        "outputId": "b66e6df6-6b5c-491a-fc95-3f7502731366"
      },
      "execution_count": 61,
      "outputs": [
        {
          "output_type": "execute_result",
          "data": {
            "text/plain": [
              "4487"
            ]
          },
          "metadata": {},
          "execution_count": 61
        }
      ]
    },
    {
      "cell_type": "markdown",
      "source": [
        "Homens que não registraram BO:"
      ],
      "metadata": {
        "id": "QuPwZkKsb2xk"
      }
    },
    {
      "cell_type": "code",
      "source": [
        "df[(df['sexo'] == 'MASCULINO')&(df['registrou_bo'] == False)].shape[0]"
      ],
      "metadata": {
        "colab": {
          "base_uri": "https://localhost:8080/"
        },
        "id": "Waqd_KqBUT_6",
        "outputId": "40a36019-8904-4318-e1d1-633ea5d9b5ce"
      },
      "execution_count": 62,
      "outputs": [
        {
          "output_type": "execute_result",
          "data": {
            "text/plain": [
              "3087"
            ]
          },
          "metadata": {},
          "execution_count": 62
        }
      ]
    },
    {
      "cell_type": "markdown",
      "source": [
        "Mulheres que registraram BO:"
      ],
      "metadata": {
        "id": "CiGWopzcb7PV"
      }
    },
    {
      "cell_type": "code",
      "source": [
        "df[(df['sexo']== 'FEMININO')&(df['registrou_bo'] == True)].shape[0]"
      ],
      "metadata": {
        "colab": {
          "base_uri": "https://localhost:8080/"
        },
        "id": "ZNzOvBdOUTzR",
        "outputId": "a42b8569-f4bf-49ce-ee37-6f58fb9d6060"
      },
      "execution_count": 63,
      "outputs": [
        {
          "output_type": "execute_result",
          "data": {
            "text/plain": [
              "2853"
            ]
          },
          "metadata": {},
          "execution_count": 63
        }
      ]
    },
    {
      "cell_type": "markdown",
      "source": [
        "Mulheres que registraram BO:"
      ],
      "metadata": {
        "id": "JlA3tGv3b-d7"
      }
    },
    {
      "cell_type": "code",
      "source": [
        "df[(df['sexo']== 'FEMININO')&(df['registrou_bo'] == False)].shape[0]"
      ],
      "metadata": {
        "colab": {
          "base_uri": "https://localhost:8080/"
        },
        "id": "DC6iGfj8UTjx",
        "outputId": "0a54b7bf-a9bb-4e1c-a129-14abe2177bc4"
      },
      "execution_count": 64,
      "outputs": [
        {
          "output_type": "execute_result",
          "data": {
            "text/plain": [
              "1948"
            ]
          },
          "metadata": {},
          "execution_count": 64
        }
      ]
    },
    {
      "cell_type": "markdown",
      "source": [
        "Gráfico de barras usando o Seaborn para visualizar a distribuição de pessoas que registraram um Boletim de Ocorrência (BO), divididos por gênero."
      ],
      "metadata": {
        "id": "BkWhSVHrbtH-"
      }
    },
    {
      "cell_type": "code",
      "metadata": {
        "id": "K3v3WC2maLyZ",
        "colab": {
          "base_uri": "https://localhost:8080/",
          "height": 630
        },
        "outputId": "c598ae14-11ad-4b24-d491-29e4816084d7"
      },
      "source": [
        "fig = plt.figure(figsize=(11,7))\n",
        "sns.countplot(x='sexo',hue='registrou_bo',data=df_clean)\n",
        "plt.xlabel('',fontsize=13)\n",
        "plt.ylabel('')\n",
        "plt.legend(title='Registrou BO')\n",
        "plt.yticks(fontsize=11)\n",
        "plt.title('Os gêneros que registraram BO',fontsize=19);"
      ],
      "execution_count": 65,
      "outputs": [
        {
          "output_type": "display_data",
          "data": {
            "text/plain": [
              "<Figure size 1100x700 with 1 Axes>"
            ],
            "image/png": "[encoded data removed]"
          },
          "metadata": {}
        }
      ]
    },
    {
      "cell_type": "markdown",
      "metadata": {
        "id": "KfZ7BCP1p7ts"
      },
      "source": [
        "##O QUE FOI ROUBADO?"
      ]
    },
    {
      "cell_type": "markdown",
      "metadata": {
        "id": "Kdrs8Sl6mTtG"
      },
      "source": [
        "####Estatística descritiva"
      ]
    },
    {
      "cell_type": "markdown",
      "source": [
        "Exibe uma descrição estatística da coluna valor_prejuizo do DataFrame df."
      ],
      "metadata": {
        "id": "fNZCEGrLbknw"
      }
    },
    {
      "cell_type": "code",
      "metadata": {
        "id": "7TWH6HpYCRdm",
        "colab": {
          "base_uri": "https://localhost:8080/",
          "height": 335
        },
        "outputId": "b9e3069d-08c6-48f1-ad65-0baffd82e7e7"
      },
      "source": [
        "df['valor_prejuizo'].describe()"
      ],
      "execution_count": 66,
      "outputs": [
        {
          "output_type": "execute_result",
          "data": {
            "text/plain": [
              "count      12899.000000\n",
              "mean        2745.264592\n",
              "std        11115.126241\n",
              "min            0.000000\n",
              "25%           25.000000\n",
              "50%          700.000000\n",
              "75%         2000.000000\n",
              "max      1000000.000000\n",
              "Name: valor_prejuizo, dtype: float64"
            ],
            "text/html": [
              "<div>\n",
              "<style scoped>\n",
              "    .dataframe tbody tr th:only-of-type {\n",
              "        vertical-align: middle;\n",
              "    }\n",
              "\n",
              "    .dataframe tbody tr th {\n",
              "        vertical-align: top;\n",
              "    }\n",
              "\n",
              "    .dataframe thead th {\n",
              "        text-align: right;\n",
              "    }\n",
              "</style>\n",
              "<table border=\"1\" class=\"dataframe\">\n",
              "  <thead>\n",
              "    <tr style=\"text-align: right;\">\n",
              "      <th></th>\n",
              "      <th>valor_prejuizo</th>\n",
              "    </tr>\n",
              "  </thead>\n",
              "  <tbody>\n",
              "    <tr>\n",
              "      <th>count</th>\n",
              "      <td>12899.000000</td>\n",
              "    </tr>\n",
              "    <tr>\n",
              "      <th>mean</th>\n",
              "      <td>2745.264592</td>\n",
              "    </tr>\n",
              "    <tr>\n",
              "      <th>std</th>\n",
              "      <td>11115.126241</td>\n",
              "    </tr>\n",
              "    <tr>\n",
              "      <th>min</th>\n",
              "      <td>0.000000</td>\n",
              "    </tr>\n",
              "    <tr>\n",
              "      <th>25%</th>\n",
              "      <td>25.000000</td>\n",
              "    </tr>\n",
              "    <tr>\n",
              "      <th>50%</th>\n",
              "      <td>700.000000</td>\n",
              "    </tr>\n",
              "    <tr>\n",
              "      <th>75%</th>\n",
              "      <td>2000.000000</td>\n",
              "    </tr>\n",
              "    <tr>\n",
              "      <th>max</th>\n",
              "      <td>1000000.000000</td>\n",
              "    </tr>\n",
              "  </tbody>\n",
              "</table>\n",
              "</div><br><label><b>dtype:</b> float64</label>"
            ]
          },
          "metadata": {},
          "execution_count": 66
        }
      ]
    },
    {
      "cell_type": "markdown",
      "source": [
        "Analísa dados categóricos (do tipo objeto) em um DataFrame df e fazer algumas manipulações para obter estatísticas descritivas."
      ],
      "metadata": {
        "id": "2Zr9f5i0bbPb"
      }
    },
    {
      "cell_type": "code",
      "metadata": {
        "id": "TzK-wV0em0n7",
        "colab": {
          "base_uri": "https://localhost:8080/",
          "height": 645
        },
        "outputId": "6790bc3a-b435-4860-9109-daaab05473a7"
      },
      "source": [
        "df2 = df.describe(include='O')\n",
        "df2_objetos = df.drop(columns=['bairro','id','created_at','descricao','endereco','id.1','ip_address_origin','latitude','longitude','registrou_bo','sexo','tipo_assalto_id','titulo','uri','user_id','valor_prejuizo','time'])\n",
        "df2_objetos = df2_objetos.describe(include='O')\n",
        "df2_objetos = df2_objetos.T\n",
        "eixoy = df2_objetos.index\n",
        "df2_objetos"
      ],
      "execution_count": 67,
      "outputs": [
        {
          "output_type": "execute_result",
          "data": {
            "text/plain": [
              "                   count unique   top  freq\n",
              "Bicicleta            256      1  True   256\n",
              "Bolsa ou Mochila    3631      1  True  3631\n",
              "Carteira            4243      1  True  4243\n",
              "Cartão de Crédito   2776      1  True  2776\n",
              "Celular             8377      1  True  8377\n",
              "Computador           112      1  True   112\n",
              "DVD                   94      1  True    94\n",
              "Dinheiro            1730      1  True  1730\n",
              "Documentos          3660      1  True  3660\n",
              "Equipamento de Som   239      1  True   239\n",
              "Estepe               324      1  True   324\n",
              "MP4 ou Ipod          552      1  True   552\n",
              "Móveis                45      1  True    45\n",
              "Notebook             764      1  True   764\n",
              "Outros              5243      1  True  5243\n",
              "Relógio             1350      1  True  1350\n",
              "Som                  106      1  True   106\n",
              "Tablet               443      1  True   443\n",
              "Tv                   178      1  True   178"
            ],
            "text/html": [
              "\n",
              "  <div id=\"df-571f78e3-ad0c-49ba-8b5a-8e81462d0556\" class=\"colab-df-container\">\n",
              "    <div>\n",
              "<style scoped>\n",
              "    .dataframe tbody tr th:only-of-type {\n",
              "        vertical-align: middle;\n",
              "    }\n",
              "\n",
              "    .dataframe tbody tr th {\n",
              "        vertical-align: top;\n",
              "    }\n",
              "\n",
              "    .dataframe thead th {\n",
              "        text-align: right;\n",
              "    }\n",
              "</style>\n",
              "<table border=\"1\" class=\"dataframe\">\n",
              "  <thead>\n",
              "    <tr style=\"text-align: right;\">\n",
              "      <th></th>\n",
              "      <th>count</th>\n",
              "      <th>unique</th>\n",
              "      <th>top</th>\n",
              "      <th>freq</th>\n",
              "    </tr>\n",
              "  </thead>\n",
              "  <tbody>\n",
              "    <tr>\n",
              "      <th>Bicicleta</th>\n",
              "      <td>256</td>\n",
              "      <td>1</td>\n",
              "      <td>True</td>\n",
              "      <td>256</td>\n",
              "    </tr>\n",
              "    <tr>\n",
              "      <th>Bolsa ou Mochila</th>\n",
              "      <td>3631</td>\n",
              "      <td>1</td>\n",
              "      <td>True</td>\n",
              "      <td>3631</td>\n",
              "    </tr>\n",
              "    <tr>\n",
              "      <th>Carteira</th>\n",
              "      <td>4243</td>\n",
              "      <td>1</td>\n",
              "      <td>True</td>\n",
              "      <td>4243</td>\n",
              "    </tr>\n",
              "    <tr>\n",
              "      <th>Cartão de Crédito</th>\n",
              "      <td>2776</td>\n",
              "      <td>1</td>\n",
              "      <td>True</td>\n",
              "      <td>2776</td>\n",
              "    </tr>\n",
              "    <tr>\n",
              "      <th>Celular</th>\n",
              "      <td>8377</td>\n",
              "      <td>1</td>\n",
              "      <td>True</td>\n",
              "      <td>8377</td>\n",
              "    </tr>\n",
              "    <tr>\n",
              "      <th>Computador</th>\n",
              "      <td>112</td>\n",
              "      <td>1</td>\n",
              "      <td>True</td>\n",
              "      <td>112</td>\n",
              "    </tr>\n",
              "    <tr>\n",
              "      <th>DVD</th>\n",
              "      <td>94</td>\n",
              "      <td>1</td>\n",
              "      <td>True</td>\n",
              "      <td>94</td>\n",
              "    </tr>\n",
              "    <tr>\n",
              "      <th>Dinheiro</th>\n",
              "      <td>1730</td>\n",
              "      <td>1</td>\n",
              "      <td>True</td>\n",
              "      <td>1730</td>\n",
              "    </tr>\n",
              "    <tr>\n",
              "      <th>Documentos</th>\n",
              "      <td>3660</td>\n",
              "      <td>1</td>\n",
              "      <td>True</td>\n",
              "      <td>3660</td>\n",
              "    </tr>\n",
              "    <tr>\n",
              "      <th>Equipamento de Som</th>\n",
              "      <td>239</td>\n",
              "      <td>1</td>\n",
              "      <td>True</td>\n",
              "      <td>239</td>\n",
              "    </tr>\n",
              "    <tr>\n",
              "      <th>Estepe</th>\n",
              "      <td>324</td>\n",
              "      <td>1</td>\n",
              "      <td>True</td>\n",
              "      <td>324</td>\n",
              "    </tr>\n",
              "    <tr>\n",
              "      <th>MP4 ou Ipod</th>\n",
              "      <td>552</td>\n",
              "      <td>1</td>\n",
              "      <td>True</td>\n",
              "      <td>552</td>\n",
              "    </tr>\n",
              "    <tr>\n",
              "      <th>Móveis</th>\n",
              "      <td>45</td>\n",
              "      <td>1</td>\n",
              "      <td>True</td>\n",
              "      <td>45</td>\n",
              "    </tr>\n",
              "    <tr>\n",
              "      <th>Notebook</th>\n",
              "      <td>764</td>\n",
              "      <td>1</td>\n",
              "      <td>True</td>\n",
              "      <td>764</td>\n",
              "    </tr>\n",
              "    <tr>\n",
              "      <th>Outros</th>\n",
              "      <td>5243</td>\n",
              "      <td>1</td>\n",
              "      <td>True</td>\n",
              "      <td>5243</td>\n",
              "    </tr>\n",
              "    <tr>\n",
              "      <th>Relógio</th>\n",
              "      <td>1350</td>\n",
              "      <td>1</td>\n",
              "      <td>True</td>\n",
              "      <td>1350</td>\n",
              "    </tr>\n",
              "    <tr>\n",
              "      <th>Som</th>\n",
              "      <td>106</td>\n",
              "      <td>1</td>\n",
              "      <td>True</td>\n",
              "      <td>106</td>\n",
              "    </tr>\n",
              "    <tr>\n",
              "      <th>Tablet</th>\n",
              "      <td>443</td>\n",
              "      <td>1</td>\n",
              "      <td>True</td>\n",
              "      <td>443</td>\n",
              "    </tr>\n",
              "    <tr>\n",
              "      <th>Tv</th>\n",
              "      <td>178</td>\n",
              "      <td>1</td>\n",
              "      <td>True</td>\n",
              "      <td>178</td>\n",
              "    </tr>\n",
              "  </tbody>\n",
              "</table>\n",
              "</div>\n",
              "    <div class=\"colab-df-buttons\">\n",
              "\n",
              "  <div class=\"colab-df-container\">\n",
              "    <button class=\"colab-df-convert\" onclick=\"convertToInteractive('df-571f78e3-ad0c-49ba-8b5a-8e81462d0556')\"\n",
              "            title=\"Convert this dataframe to an interactive table.\"\n",
              "            style=\"display:none;\">\n",
              "\n",
              "  <svg xmlns=\"http://www.w3.org/2000/svg\" height=\"24px\" viewBox=\"0 -960 960 960\">\n",
              "    <path d=\"M120-120v-720h720v720H120Zm60-500h600v-160H180v160Zm220 220h160v-160H400v160Zm0 220h160v-160H400v160ZM180-400h160v-160H180v160Zm440 0h160v-160H620v160ZM180-180h160v-160H180v160Zm440 0h160v-160H620v160Z\"/>\n",
              "  </svg>\n",
              "    </button>\n",
              "\n",
              "  <style>\n",
              "    .colab-df-container {\n",
              "      display:flex;\n",
              "      gap: 12px;\n",
              "    }\n",
              "\n",
              "    .colab-df-convert {\n",
              "      background-color: #E8F0FE;\n",
              "      border: none;\n",
              "      border-radius: 50%;\n",
              "      cursor: pointer;\n",
              "      display: none;\n",
              "      fill: #1967D2;\n",
              "      height: 32px;\n",
              "      padding: 0 0 0 0;\n",
              "      width: 32px;\n",
              "    }\n",
              "\n",
              "    .colab-df-convert:hover {\n",
              "      background-color: #E2EBFA;\n",
              "      box-shadow: 0px 1px 2px rgba(60, 64, 67, 0.3), 0px 1px 3px 1px rgba(60, 64, 67, 0.15);\n",
              "      fill: #174EA6;\n",
              "    }\n",
              "\n",
              "    .colab-df-buttons div {\n",
              "      margin-bottom: 4px;\n",
              "    }\n",
              "\n",
              "    [theme=dark] .colab-df-convert {\n",
              "      background-color: #3B4455;\n",
              "      fill: #D2E3FC;\n",
              "    }\n",
              "\n",
              "    [theme=dark] .colab-df-convert:hover {\n",
              "      background-color: #434B5C;\n",
              "      box-shadow: 0px 1px 3px 1px rgba(0, 0, 0, 0.15);\n",
              "      filter: drop-shadow(0px 1px 2px rgba(0, 0, 0, 0.3));\n",
              "      fill: #FFFFFF;\n",
              "    }\n",
              "  </style>\n",
              "\n",
              "    <script>\n",
              "      const buttonEl =\n",
              "        document.querySelector('#df-571f78e3-ad0c-49ba-8b5a-8e81462d0556 button.colab-df-convert');\n",
              "      buttonEl.style.display =\n",
              "        google.colab.kernel.accessAllowed ? 'block' : 'none';\n",
              "\n",
              "      async function convertToInteractive(key) {\n",
              "        const element = document.querySelector('#df-571f78e3-ad0c-49ba-8b5a-8e81462d0556');\n",
              "        const dataTable =\n",
              "          await google.colab.kernel.invokeFunction('convertToInteractive',\n",
              "                                                    [key], {});\n",
              "        if (!dataTable) return;\n",
              "\n",
              "        const docLinkHtml = 'Like what you see? Visit the ' +\n",
              "          '<a target=\"_blank\" href=https://colab.research.google.com/notebooks/data_table.ipynb>data table notebook</a>'\n",
              "          + ' to learn more about interactive tables.';\n",
              "        element.innerHTML = '';\n",
              "        dataTable['output_type'] = 'display_data';\n",
              "        await google.colab.output.renderOutput(dataTable, element);\n",
              "        const docLink = document.createElement('div');\n",
              "        docLink.innerHTML = docLinkHtml;\n",
              "        element.appendChild(docLink);\n",
              "      }\n",
              "    </script>\n",
              "  </div>\n",
              "\n",
              "\n",
              "<div id=\"df-6f855f38-4a01-4dbd-8ed9-090fd8717655\">\n",
              "  <button class=\"colab-df-quickchart\" onclick=\"quickchart('df-6f855f38-4a01-4dbd-8ed9-090fd8717655')\"\n",
              "            title=\"Suggest charts\"\n",
              "            style=\"display:none;\">\n",
              "\n",
              "<svg xmlns=\"http://www.w3.org/2000/svg\" height=\"24px\"viewBox=\"0 0 24 24\"\n",
              "     width=\"24px\">\n",
              "    <g>\n",
              "        <path d=\"M19 3H5c-1.1 0-2 .9-2 2v14c0 1.1.9 2 2 2h14c1.1 0 2-.9 2-2V5c0-1.1-.9-2-2-2zM9 17H7v-7h2v7zm4 0h-2V7h2v10zm4 0h-2v-4h2v4z\"/>\n",
              "    </g>\n",
              "</svg>\n",
              "  </button>\n",
              "\n",
              "<style>\n",
              "  .colab-df-quickchart {\n",
              "      --bg-color: #E8F0FE;\n",
              "      --fill-color: #1967D2;\n",
              "      --hover-bg-color: #E2EBFA;\n",
              "      --hover-fill-color: #174EA6;\n",
              "      --disabled-fill-color: #AAA;\n",
              "      --disabled-bg-color: #DDD;\n",
              "  }\n",
              "\n",
              "  [theme=dark] .colab-df-quickchart {\n",
              "      --bg-color: #3B4455;\n",
              "      --fill-color: #D2E3FC;\n",
              "      --hover-bg-color: #434B5C;\n",
              "      --hover-fill-color: #FFFFFF;\n",
              "      --disabled-bg-color: #3B4455;\n",
              "      --disabled-fill-color: #666;\n",
              "  }\n",
              "\n",
              "  .colab-df-quickchart {\n",
              "    background-color: var(--bg-color);\n",
              "    border: none;\n",
              "    border-radius: 50%;\n",
              "    cursor: pointer;\n",
              "    display: none;\n",
              "    fill: var(--fill-color);\n",
              "    height: 32px;\n",
              "    padding: 0;\n",
              "    width: 32px;\n",
              "  }\n",
              "\n",
              "  .colab-df-quickchart:hover {\n",
              "    background-color: var(--hover-bg-color);\n",
              "    box-shadow: 0 1px 2px rgba(60, 64, 67, 0.3), 0 1px 3px 1px rgba(60, 64, 67, 0.15);\n",
              "    fill: var(--button-hover-fill-color);\n",
              "  }\n",
              "\n",
              "  .colab-df-quickchart-complete:disabled,\n",
              "  .colab-df-quickchart-complete:disabled:hover {\n",
              "    background-color: var(--disabled-bg-color);\n",
              "    fill: var(--disabled-fill-color);\n",
              "    box-shadow: none;\n",
              "  }\n",
              "\n",
              "  .colab-df-spinner {\n",
              "    border: 2px solid var(--fill-color);\n",
              "    border-color: transparent;\n",
              "    border-bottom-color: var(--fill-color);\n",
              "    animation:\n",
              "      spin 1s steps(1) infinite;\n",
              "  }\n",
              "\n",
              "  @keyframes spin {\n",
              "    0% {\n",
              "      border-color: transparent;\n",
              "      border-bottom-color: var(--fill-color);\n",
              "      border-left-color: var(--fill-color);\n",
              "    }\n",
              "    20% {\n",
              "      border-color: transparent;\n",
              "      border-left-color: var(--fill-color);\n",
              "      border-top-color: var(--fill-color);\n",
              "    }\n",
              "    30% {\n",
              "      border-color: transparent;\n",
              "      border-left-color: var(--fill-color);\n",
              "      border-top-color: var(--fill-color);\n",
              "      border-right-color: var(--fill-color);\n",
              "    }\n",
              "    40% {\n",
              "      border-color: transparent;\n",
              "      border-right-color: var(--fill-color);\n",
              "      border-top-color: var(--fill-color);\n",
              "    }\n",
              "    60% {\n",
              "      border-color: transparent;\n",
              "      border-right-color: var(--fill-color);\n",
              "    }\n",
              "    80% {\n",
              "      border-color: transparent;\n",
              "      border-right-color: var(--fill-color);\n",
              "      border-bottom-color: var(--fill-color);\n",
              "    }\n",
              "    90% {\n",
              "      border-color: transparent;\n",
              "      border-bottom-color: var(--fill-color);\n",
              "    }\n",
              "  }\n",
              "</style>\n",
              "\n",
              "  <script>\n",
              "    async function quickchart(key) {\n",
              "      const quickchartButtonEl =\n",
              "        document.querySelector('#' + key + ' button');\n",
              "      quickchartButtonEl.disabled = true;  // To prevent multiple clicks.\n",
              "      quickchartButtonEl.classList.add('colab-df-spinner');\n",
              "      try {\n",
              "        const charts = await google.colab.kernel.invokeFunction(\n",
              "            'suggestCharts', [key], {});\n",
              "      } catch (error) {\n",
              "        console.error('Error during call to suggestCharts:', error);\n",
              "      }\n",
              "      quickchartButtonEl.classList.remove('colab-df-spinner');\n",
              "      quickchartButtonEl.classList.add('colab-df-quickchart-complete');\n",
              "    }\n",
              "    (() => {\n",
              "      let quickchartButtonEl =\n",
              "        document.querySelector('#df-6f855f38-4a01-4dbd-8ed9-090fd8717655 button');\n",
              "      quickchartButtonEl.style.display =\n",
              "        google.colab.kernel.accessAllowed ? 'block' : 'none';\n",
              "    })();\n",
              "  </script>\n",
              "</div>\n",
              "\n",
              "  <div id=\"id_0e4e32fd-836c-4d3d-9b83-08b7609d07bd\">\n",
              "    <style>\n",
              "      .colab-df-generate {\n",
              "        background-color: #E8F0FE;\n",
              "        border: none;\n",
              "        border-radius: 50%;\n",
              "        cursor: pointer;\n",
              "        display: none;\n",
              "        fill: #1967D2;\n",
              "        height: 32px;\n",
              "        padding: 0 0 0 0;\n",
              "        width: 32px;\n",
              "      }\n",
              "\n",
              "      .colab-df-generate:hover {\n",
              "        background-color: #E2EBFA;\n",
              "        box-shadow: 0px 1px 2px rgba(60, 64, 67, 0.3), 0px 1px 3px 1px rgba(60, 64, 67, 0.15);\n",
              "        fill: #174EA6;\n",
              "      }\n",
              "\n",
              "      [theme=dark] .colab-df-generate {\n",
              "        background-color: #3B4455;\n",
              "        fill: #D2E3FC;\n",
              "      }\n",
              "\n",
              "      [theme=dark] .colab-df-generate:hover {\n",
              "        background-color: #434B5C;\n",
              "        box-shadow: 0px 1px 3px 1px rgba(0, 0, 0, 0.15);\n",
              "        filter: drop-shadow(0px 1px 2px rgba(0, 0, 0, 0.3));\n",
              "        fill: #FFFFFF;\n",
              "      }\n",
              "    </style>\n",
              "    <button class=\"colab-df-generate\" onclick=\"generateWithVariable('df2_objetos')\"\n",
              "            title=\"Generate code using this dataframe.\"\n",
              "            style=\"display:none;\">\n",
              "\n",
              "  <svg xmlns=\"http://www.w3.org/2000/svg\" height=\"24px\"viewBox=\"0 0 24 24\"\n",
              "       width=\"24px\">\n",
              "    <path d=\"M7,19H8.4L18.45,9,17,7.55,7,17.6ZM5,21V16.75L18.45,3.32a2,2,0,0,1,2.83,0l1.4,1.43a1.91,1.91,0,0,1,.58,1.4,1.91,1.91,0,0,1-.58,1.4L9.25,21ZM18.45,9,17,7.55Zm-12,3A5.31,5.31,0,0,0,4.9,8.1,5.31,5.31,0,0,0,1,6.5,5.31,5.31,0,0,0,4.9,4.9,5.31,5.31,0,0,0,6.5,1,5.31,5.31,0,0,0,8.1,4.9,5.31,5.31,0,0,0,12,6.5,5.46,5.46,0,0,0,6.5,12Z\"/>\n",
              "  </svg>\n",
              "    </button>\n",
              "    <script>\n",
              "      (() => {\n",
              "      const buttonEl =\n",
              "        document.querySelector('#id_0e4e32fd-836c-4d3d-9b83-08b7609d07bd button.colab-df-generate');\n",
              "      buttonEl.style.display =\n",
              "        google.colab.kernel.accessAllowed ? 'block' : 'none';\n",
              "\n",
              "      buttonEl.onclick = () => {\n",
              "        google.colab.notebook.generateWithVariable('df2_objetos');\n",
              "      }\n",
              "      })();\n",
              "    </script>\n",
              "  </div>\n",
              "\n",
              "    </div>\n",
              "  </div>\n"
            ],
            "application/vnd.google.colaboratory.intrinsic+json": {
              "type": "dataframe",
              "variable_name": "df2_objetos",
              "summary": "{\n  \"name\": \"df2_objetos\",\n  \"rows\": 19,\n  \"fields\": [\n    {\n      \"column\": \"count\",\n      \"properties\": {\n        \"dtype\": \"date\",\n        \"min\": \"45\",\n        \"max\": \"8377\",\n        \"num_unique_values\": 19,\n        \"samples\": [\n          \"256\",\n          \"112\",\n          \"552\"\n        ],\n        \"semantic_type\": \"\",\n        \"description\": \"\"\n      }\n    },\n    {\n      \"column\": \"unique\",\n      \"properties\": {\n        \"dtype\": \"date\",\n        \"min\": 1,\n        \"max\": 1,\n        \"num_unique_values\": 1,\n        \"samples\": [\n          1\n        ],\n        \"semantic_type\": \"\",\n        \"description\": \"\"\n      }\n    },\n    {\n      \"column\": \"top\",\n      \"properties\": {\n        \"dtype\": \"category\",\n        \"num_unique_values\": 1,\n        \"samples\": [\n          true\n        ],\n        \"semantic_type\": \"\",\n        \"description\": \"\"\n      }\n    },\n    {\n      \"column\": \"freq\",\n      \"properties\": {\n        \"dtype\": \"date\",\n        \"min\": \"45\",\n        \"max\": \"8377\",\n        \"num_unique_values\": 19,\n        \"samples\": [\n          \"256\"\n        ],\n        \"semantic_type\": \"\",\n        \"description\": \"\"\n      }\n    }\n  ]\n}"
            }
          },
          "metadata": {},
          "execution_count": 67
        }
      ]
    },
    {
      "cell_type": "markdown",
      "source": [
        " Calcula a porcentagem de cada valor na coluna 'count' do DataFrame df2_objetos em relação ao total da soma de todos os valores dessa coluna."
      ],
      "metadata": {
        "id": "qxdmgfppbN8M"
      }
    },
    {
      "cell_type": "code",
      "metadata": {
        "id": "uRN23sQVzkRe",
        "colab": {
          "base_uri": "https://localhost:8080/",
          "height": 680
        },
        "outputId": "5ae32228-5602-4e42-c4d6-718d51045bb7"
      },
      "source": [
        "obj_porc = df2_objetos['count'] / df2_objetos['count'].sum()*100\n",
        "obj_porc"
      ],
      "execution_count": 68,
      "outputs": [
        {
          "output_type": "execute_result",
          "data": {
            "text/plain": [
              "Bicicleta              0.750227\n",
              "Bolsa ou Mochila      10.640917\n",
              "Carteira              12.434428\n",
              "Cartão de Crédito      8.135275\n",
              "Celular               24.549424\n",
              "Computador             0.328224\n",
              "DVD                    0.275474\n",
              "Dinheiro               5.069894\n",
              "Documentos            10.725903\n",
              "Equipamento de Som     0.700407\n",
              "Estepe                 0.949506\n",
              "MP4 ou Ipod            1.617677\n",
              "Móveis                 0.131876\n",
              "Notebook               2.238959\n",
              "Outros                15.365003\n",
              "Relógio                3.956276\n",
              "Som                    0.310641\n",
              "Tablet                 1.298245\n",
              "Tv                     0.521642\n",
              "Name: count, dtype: object"
            ],
            "text/html": [
              "<div>\n",
              "<style scoped>\n",
              "    .dataframe tbody tr th:only-of-type {\n",
              "        vertical-align: middle;\n",
              "    }\n",
              "\n",
              "    .dataframe tbody tr th {\n",
              "        vertical-align: top;\n",
              "    }\n",
              "\n",
              "    .dataframe thead th {\n",
              "        text-align: right;\n",
              "    }\n",
              "</style>\n",
              "<table border=\"1\" class=\"dataframe\">\n",
              "  <thead>\n",
              "    <tr style=\"text-align: right;\">\n",
              "      <th></th>\n",
              "      <th>count</th>\n",
              "    </tr>\n",
              "  </thead>\n",
              "  <tbody>\n",
              "    <tr>\n",
              "      <th>Bicicleta</th>\n",
              "      <td>0.750227</td>\n",
              "    </tr>\n",
              "    <tr>\n",
              "      <th>Bolsa ou Mochila</th>\n",
              "      <td>10.640917</td>\n",
              "    </tr>\n",
              "    <tr>\n",
              "      <th>Carteira</th>\n",
              "      <td>12.434428</td>\n",
              "    </tr>\n",
              "    <tr>\n",
              "      <th>Cartão de Crédito</th>\n",
              "      <td>8.135275</td>\n",
              "    </tr>\n",
              "    <tr>\n",
              "      <th>Celular</th>\n",
              "      <td>24.549424</td>\n",
              "    </tr>\n",
              "    <tr>\n",
              "      <th>Computador</th>\n",
              "      <td>0.328224</td>\n",
              "    </tr>\n",
              "    <tr>\n",
              "      <th>DVD</th>\n",
              "      <td>0.275474</td>\n",
              "    </tr>\n",
              "    <tr>\n",
              "      <th>Dinheiro</th>\n",
              "      <td>5.069894</td>\n",
              "    </tr>\n",
              "    <tr>\n",
              "      <th>Documentos</th>\n",
              "      <td>10.725903</td>\n",
              "    </tr>\n",
              "    <tr>\n",
              "      <th>Equipamento de Som</th>\n",
              "      <td>0.700407</td>\n",
              "    </tr>\n",
              "    <tr>\n",
              "      <th>Estepe</th>\n",
              "      <td>0.949506</td>\n",
              "    </tr>\n",
              "    <tr>\n",
              "      <th>MP4 ou Ipod</th>\n",
              "      <td>1.617677</td>\n",
              "    </tr>\n",
              "    <tr>\n",
              "      <th>Móveis</th>\n",
              "      <td>0.131876</td>\n",
              "    </tr>\n",
              "    <tr>\n",
              "      <th>Notebook</th>\n",
              "      <td>2.238959</td>\n",
              "    </tr>\n",
              "    <tr>\n",
              "      <th>Outros</th>\n",
              "      <td>15.365003</td>\n",
              "    </tr>\n",
              "    <tr>\n",
              "      <th>Relógio</th>\n",
              "      <td>3.956276</td>\n",
              "    </tr>\n",
              "    <tr>\n",
              "      <th>Som</th>\n",
              "      <td>0.310641</td>\n",
              "    </tr>\n",
              "    <tr>\n",
              "      <th>Tablet</th>\n",
              "      <td>1.298245</td>\n",
              "    </tr>\n",
              "    <tr>\n",
              "      <th>Tv</th>\n",
              "      <td>0.521642</td>\n",
              "    </tr>\n",
              "  </tbody>\n",
              "</table>\n",
              "</div><br><label><b>dtype:</b> object</label>"
            ]
          },
          "metadata": {},
          "execution_count": 68
        }
      ]
    },
    {
      "cell_type": "markdown",
      "source": [
        "Homens que não tiveram prejuízo"
      ],
      "metadata": {
        "id": "IcR1YSDZbCfx"
      }
    },
    {
      "cell_type": "code",
      "metadata": {
        "id": "AnfA2uG6snuG",
        "colab": {
          "base_uri": "https://localhost:8080/"
        },
        "outputId": "0b1c43a8-765f-4264-dc32-33343f6e9ea3"
      },
      "source": [
        "lista2 = []\n",
        "lista2.append(df[(df['valor_prejuizo']== 0 ) & (df['sexo'] == 'MASCULINO')].shape[0])\n",
        "for i in lista2:\n",
        "  print(f'{i} homens tiveram R$0,00 reais de prejuizo')"
      ],
      "execution_count": 69,
      "outputs": [
        {
          "output_type": "stream",
          "name": "stdout",
          "text": [
            "1285 homens tiveram R$0,00 reais de prejuizo\n"
          ]
        }
      ]
    },
    {
      "cell_type": "markdown",
      "source": [
        "Mulheres que não tiveram prejuízo"
      ],
      "metadata": {
        "id": "uxLfREyTa6PL"
      }
    },
    {
      "cell_type": "code",
      "metadata": {
        "id": "LQcllLaUsrCR",
        "colab": {
          "base_uri": "https://localhost:8080/"
        },
        "outputId": "20973dc5-93c2-4500-f32e-0f82ec44c7c2"
      },
      "source": [
        "lista2 = []\n",
        "lista2.append(df[(df['valor_prejuizo']== 0 ) & (df['sexo'] == 'FEMININO')].shape[0])\n",
        "for i in lista2:\n",
        "  print(f'{i} mulheres tiveram R$0,00 reais de prejuizo')"
      ],
      "execution_count": 70,
      "outputs": [
        {
          "output_type": "stream",
          "name": "stdout",
          "text": [
            "922 mulheres tiveram R$0,00 reais de prejuizo\n"
          ]
        }
      ]
    },
    {
      "cell_type": "markdown",
      "metadata": {
        "id": "T1PS8xdRC-qU"
      },
      "source": [
        "Observa-se que:\n",
        "\n",
        "*   A plataforma registrou **12899** casos de assalto nesse período de tempo\n",
        "\n",
        "*   O maior prejuízo foi de **R$ 1 MILHÃO**\n",
        "\n",
        "*   O valor **R$ 0,00** mostra que nem todos os crimes houveram prejuízos financeiros diretos\n",
        "\n",
        "*   Foram registrados **1577** bairros diferentes\n",
        "\n",
        "\n",
        "*   O item mais roubado foi o **celular** (**8377**)\n",
        "\n",
        "*   O título mais comum para registro de crime foi \"*Fui assaltado voltando do trabalho*\", o que diz muito sobre a situação da segurança pública na cidade."
      ]
    },
    {
      "cell_type": "markdown",
      "metadata": {
        "id": "iC1-TxanoYYE"
      },
      "source": [
        "####Visualização"
      ]
    },
    {
      "cell_type": "markdown",
      "source": [
        "Plota um gráfico de barras com a frequência de diferentes tipos de objetos listados na variável df2_objetos."
      ],
      "metadata": {
        "id": "0DThEz_Papbe"
      }
    },
    {
      "cell_type": "code",
      "metadata": {
        "id": "JcM-1H9wobwK",
        "colab": {
          "base_uri": "https://localhost:8080/",
          "height": 563
        },
        "outputId": "e1ae5c0d-8ea7-4624-8a02-284f0daa6eed"
      },
      "source": [
        "paleta1 = sns.color_palette(\"Blues\",16)\n",
        "fig = plt.figure(figsize=(15,5))\n",
        "plt.yticks(fontsize=13)\n",
        "plt.xticks(fontsize=13)\n",
        "plt.xlabel('',fontsize=0)\n",
        "sns.barplot(x = 'freq', y = df2_objetos.index, order = ['Móveis','DVD','Som','Computador','Tv','Bicicleta','Estepe','Tablet','MP4 ou Ipod','Relógio','Dinheiro','Cartão de Crédito','Bolsa ou Mochila','Carteira','Outros','Celular'], palette=paleta1,data = df2_objetos);"
      ],
      "execution_count": 71,
      "outputs": [
        {
          "output_type": "stream",
          "name": "stderr",
          "text": [
            "<ipython-input-71-e8f3bc59db5a>:6: FutureWarning: \n",
            "\n",
            "Passing `palette` without assigning `hue` is deprecated and will be removed in v0.14.0. Assign the `y` variable to `hue` and set `legend=False` for the same effect.\n",
            "\n",
            "  sns.barplot(x = 'freq', y = df2_objetos.index, order = ['Móveis','DVD','Som','Computador','Tv','Bicicleta','Estepe','Tablet','MP4 ou Ipod','Relógio','Dinheiro','Cartão de Crédito','Bolsa ou Mochila','Carteira','Outros','Celular'], palette=paleta1,data = df2_objetos);\n"
          ]
        },
        {
          "output_type": "display_data",
          "data": {
            "text/plain": [
              "<Figure size 1500x500 with 1 Axes>"
            ],
            "image/png": "[encoded data removed]"
          },
          "metadata": {}
        }
      ]
    },
    {
      "cell_type": "markdown",
      "source": [
        " Boxplot para visualizar a distribuição do valor do prejuízo (valor_prejuizo) entre os diferentes sexos (sexo) das vítimas, dividindo os dados com base em quem registrou ou não registrou o BO (registrou_bo)."
      ],
      "metadata": {
        "id": "XuJbRHFAafad"
      }
    },
    {
      "cell_type": "code",
      "metadata": {
        "id": "1o-Bu7QUwNsd",
        "colab": {
          "base_uri": "https://localhost:8080/",
          "height": 468
        },
        "outputId": "82e554d4-0924-41d5-d852-1d59a3b62c5b"
      },
      "source": [
        "fig = plt.figure(figsize=(10,5))\n",
        "sns.boxplot(x='sexo',y='valor_prejuizo',showfliers=False,hue='registrou_bo',data=df)\n",
        "plt.ylim(0,10000)\n",
        "plt.title('Valor do prejuízo para diferentes vítimas')\n",
        "plt.legend(title='Registrou BO?')\n",
        "plt.ylabel('Valor do prejuízo',fontsize=15)\n",
        "plt.xlabel('');"
      ],
      "execution_count": 73,
      "outputs": [
        {
          "output_type": "display_data",
          "data": {
            "text/plain": [
              "<Figure size 1000x500 with 1 Axes>"
            ],
            "image/png": "[encoded data removed]"
          },
          "metadata": {}
        }
      ]
    },
    {
      "cell_type": "markdown",
      "metadata": {
        "id": "AwJyxU6_G8h1"
      },
      "source": [
        "Grafico para ver que o prejuizo do gênero feminino é mais concentrado na faixa 0 ~ 2500, enquanto que o do gênero masculino é mais \"espalhado\" (uniforme) ao longo dos valores de prejuízo."
      ]
    },
    {
      "cell_type": "code",
      "metadata": {
        "id": "Bb8RFwym8VGl",
        "colab": {
          "base_uri": "https://localhost:8080/",
          "height": 477
        },
        "outputId": "b2bd5674-a88d-497a-82cd-605719b3fb7e"
      },
      "source": [
        "fig = plt.figure(figsize=(10,5))\n",
        "sns.violinplot(x='sexo',y='valor_prejuizo',data=df)\n",
        "plt.ylim(0,20000)\n",
        "plt.title('Concentração de prejuízo por sexo',fontsize=21)\n",
        "plt.ylabel('Valor do prejuízo',fontsize=13)\n",
        "plt.xlabel('');"
      ],
      "execution_count": 74,
      "outputs": [
        {
          "output_type": "display_data",
          "data": {
            "text/plain": [
              "<Figure size 1000x500 with 1 Axes>"
            ],
            "image/png": "[encoded data removed]"
          },
          "metadata": {}
        }
      ]
    },
    {
      "cell_type": "markdown",
      "source": [
        "O código cria uma visualização que mostra as palavras mais frequentes na coluna descricao do DataFrame, removendo palavras comuns e irrelevantes (como \"a\", \"de\", \"o\", etc.)."
      ],
      "metadata": {
        "id": "PE2NPZK-Z_kv"
      }
    },
    {
      "cell_type": "code",
      "metadata": {
        "id": "24Pn7QeK6JDL",
        "colab": {
          "base_uri": "https://localhost:8080/",
          "height": 836
        },
        "outputId": "c9ce2215-573d-4af3-84d3-84e1c735cfd0"
      },
      "source": [
        "import matplotlib.pyplot as plt\n",
        "from wordcloud import WordCloud, STOPWORDS\n",
        "comment_words = ' '\n",
        "stopwords = ['estava','para','largo','minha','uma','batata','teria','dica','cima','eu','que','meu','em','fica','um','o','os','as','a','ele','ela','da','do','nas','não','nos'] + list(STOPWORDS)\n",
        "\n",
        "for valor in df.descricao:\n",
        "\n",
        "   valor = str(valor)\n",
        "\n",
        "   tokens = valor.split()\n",
        "\n",
        "for i in range(len(tokens)):\n",
        "    tokens[i] = tokens[i].lower()\n",
        "\n",
        "for words in tokens:\n",
        "    comment_words = comment_words + words + ' '\n",
        "\n",
        "\n",
        "wordcloud = WordCloud(width = 800, height = 800,\n",
        "            background_color ='white',\n",
        "            stopwords = stopwords,\n",
        "            min_font_size = 10).generate(comment_words)\n",
        "\n",
        "plt.figure(figsize = (8, 10), facecolor = None)\n",
        "plt.imshow(wordcloud)\n",
        "plt.axis(\"off\")\n",
        "plt.tight_layout(pad = 0)\n",
        "\n",
        "plt.show()"
      ],
      "execution_count": 75,
      "outputs": [
        {
          "output_type": "display_data",
          "data": {
            "text/plain": [
              "<Figure size 800x1000 with 1 Axes>"
            ],
            "image/png": "[encoded data removed]"
          },
          "metadata": {}
        }
      ]
    },
    {
      "cell_type": "markdown",
      "metadata": {
        "id": "aU2CANoNm9LO"
      },
      "source": [
        "Observa-se, palavras como \"mochila\", \"homem\", \"mp3\", \"furto\" são muito comuns, podendo traçar um perfil de descrição sobre o assaltante. Isso é importante para que as forças do Estado possam agir de forma menos irracional."
      ]
    },
    {
      "cell_type": "markdown",
      "metadata": {
        "id": "pFJ97eY-0LL4"
      },
      "source": [
        "##ONDE FOI ROUBADO?\n",
        "\n",
        "---\n",
        "A localização é essencial ao analisar um aspecto social, pois a base da sociedade é estar imersa num território, o que nos torna intrinsicamente ligado ao local em que estamos. Logo abaixo do título, deixei um mapa que representa as ocorrências obtidas pela plataforma.\n"
      ]
    },
    {
      "cell_type": "markdown",
      "metadata": {
        "id": "sAJKd4Xd0Sms"
      },
      "source": [
        "###Estatística descritiva"
      ]
    },
    {
      "cell_type": "code",
      "metadata": {
        "id": "r7tH24F-MPLR",
        "colab": {
          "base_uri": "https://localhost:8080/"
        },
        "outputId": "d5cd11f1-9810-4afe-f947-4e72168bf968"
      },
      "source": [
        "bairro_porc = df['bairro'].value_counts().max() / df['bairro'].value_counts().sum()*100\n",
        "bairro_porc"
      ],
      "execution_count": 76,
      "outputs": [
        {
          "output_type": "execute_result",
          "data": {
            "text/plain": [
              "np.float64(5.627009646302251)"
            ]
          },
          "metadata": {},
          "execution_count": 76
        }
      ]
    },
    {
      "cell_type": "markdown",
      "source": [
        "O bairro que mais registrou ocorrências: São Paulo"
      ],
      "metadata": {
        "id": "dJdCHFeiYXPE"
      }
    },
    {
      "cell_type": "code",
      "source": [
        "df['bairro'].value_counts().max()"
      ],
      "metadata": {
        "colab": {
          "base_uri": "https://localhost:8080/"
        },
        "id": "dkJTWp2hUzxh",
        "outputId": "d5327e4c-eb04-4895-bbb5-696e51c76529"
      },
      "execution_count": 77,
      "outputs": [
        {
          "output_type": "execute_result",
          "data": {
            "text/plain": [
              "630"
            ]
          },
          "metadata": {},
          "execution_count": 77
        }
      ]
    },
    {
      "cell_type": "markdown",
      "source": [
        "O bairro que menos registrou ocorrências:  Vila Picinin"
      ],
      "metadata": {
        "id": "0M_wVVadYee5"
      }
    },
    {
      "cell_type": "code",
      "source": [
        "df['bairro'].value_counts().min()"
      ],
      "metadata": {
        "colab": {
          "base_uri": "https://localhost:8080/"
        },
        "id": "xH3q5SfzU4S7",
        "outputId": "fc0fbd93-d6b1-419c-cab1-12eeb35bdc3f"
      },
      "execution_count": 78,
      "outputs": [
        {
          "output_type": "execute_result",
          "data": {
            "text/plain": [
              "1"
            ]
          },
          "metadata": {},
          "execution_count": 78
        }
      ]
    },
    {
      "cell_type": "markdown",
      "metadata": {
        "id": "Y_1VXPZjYwYQ"
      },
      "source": [
        "O fato de existir baixas ocorrências registradas não refletem **necessariamente** baixo índice de criminalidade, mas pode representar falta de acesso à internet e meios de comunicação.\n",
        "E existem outros bairros que registraram menos ocorrências, mas a ordem alfabética fez com que Vila Picinin ficasse por último."
      ]
    },
    {
      "cell_type": "markdown",
      "metadata": {
        "id": "hS19hSju0Ycj"
      },
      "source": [
        "###Visualização"
      ]
    },
    {
      "cell_type": "markdown",
      "source": [
        " Gráfico de barras horizontal usando o Seaborn para visualizar o número de crimes por bairro, com base em um DataFrame chamado df_clean"
      ],
      "metadata": {
        "id": "lC9dTwbmYP7t"
      }
    },
    {
      "cell_type": "code",
      "metadata": {
        "id": "7TxqDByGzDXm",
        "colab": {
          "base_uri": "https://localhost:8080/",
          "height": 861
        },
        "outputId": "8146694f-10e8-4774-beff-e86619b046ce"
      },
      "source": [
        "paleta2 = sns.color_palette(\"Blues_r\", 30)\n",
        "bairros = df_clean.bairro.value_counts().sort_values(ascending=False).iloc[:30]\n",
        "\n",
        "fig = plt.figure(figsize=(15,10))\n",
        "sns.barplot(x=bairros.values, y=bairros.index, hue=bairros.index, palette=paleta2, legend=False)\n",
        "\n",
        "plt.ylabel('')\n",
        "plt.xlabel('')\n",
        "plt.yticks(fontsize=13)\n",
        "plt.title('Número de Crimes por Bairro', fontsize=19)\n",
        "\n",
        "plt.show()"
      ],
      "execution_count": 79,
      "outputs": [
        {
          "output_type": "display_data",
          "data": {
            "text/plain": [
              "<Figure size 1500x1000 with 1 Axes>"
            ],
            "image/png": "[encoded data removed]"
          },
          "metadata": {}
        }
      ]
    },
    {
      "cell_type": "markdown",
      "metadata": {
        "id": "I3kllWqM0N_k"
      },
      "source": [
        "##QUANDO FOI ROUBADO?\n",
        "\n",
        "---\n",
        "A última análise é em relação ao tempo. Visão dos **anos, meses e dias do mês** em que a plataforma mais registrou mais casos de assalto.\n"
      ]
    },
    {
      "cell_type": "markdown",
      "source": [
        "Contagem de ocorrências de cada ano presente no índice do DataFrame df_clean"
      ],
      "metadata": {
        "id": "e3NpXHT7X6LS"
      }
    },
    {
      "cell_type": "code",
      "metadata": {
        "id": "W4YjnRPo12sM",
        "colab": {
          "base_uri": "https://localhost:8080/",
          "height": 398
        },
        "outputId": "dd09be22-2428-4849-b2d1-55b7c3d8bcaa"
      },
      "source": [
        "df_clean.index.year.value_counts()"
      ],
      "execution_count": 80,
      "outputs": [
        {
          "output_type": "execute_result",
          "data": {
            "text/plain": [
              "time\n",
              "2014    4079\n",
              "2013    2179\n",
              "2016    1857\n",
              "2017    1569\n",
              "2015     929\n",
              "2012     368\n",
              "2018     196\n",
              "2010      11\n",
              "2011       8\n",
              "Name: count, dtype: int64"
            ],
            "text/html": [
              "<div>\n",
              "<style scoped>\n",
              "    .dataframe tbody tr th:only-of-type {\n",
              "        vertical-align: middle;\n",
              "    }\n",
              "\n",
              "    .dataframe tbody tr th {\n",
              "        vertical-align: top;\n",
              "    }\n",
              "\n",
              "    .dataframe thead th {\n",
              "        text-align: right;\n",
              "    }\n",
              "</style>\n",
              "<table border=\"1\" class=\"dataframe\">\n",
              "  <thead>\n",
              "    <tr style=\"text-align: right;\">\n",
              "      <th></th>\n",
              "      <th>count</th>\n",
              "    </tr>\n",
              "    <tr>\n",
              "      <th>time</th>\n",
              "      <th></th>\n",
              "    </tr>\n",
              "  </thead>\n",
              "  <tbody>\n",
              "    <tr>\n",
              "      <th>2014</th>\n",
              "      <td>4079</td>\n",
              "    </tr>\n",
              "    <tr>\n",
              "      <th>2013</th>\n",
              "      <td>2179</td>\n",
              "    </tr>\n",
              "    <tr>\n",
              "      <th>2016</th>\n",
              "      <td>1857</td>\n",
              "    </tr>\n",
              "    <tr>\n",
              "      <th>2017</th>\n",
              "      <td>1569</td>\n",
              "    </tr>\n",
              "    <tr>\n",
              "      <th>2015</th>\n",
              "      <td>929</td>\n",
              "    </tr>\n",
              "    <tr>\n",
              "      <th>2012</th>\n",
              "      <td>368</td>\n",
              "    </tr>\n",
              "    <tr>\n",
              "      <th>2018</th>\n",
              "      <td>196</td>\n",
              "    </tr>\n",
              "    <tr>\n",
              "      <th>2010</th>\n",
              "      <td>11</td>\n",
              "    </tr>\n",
              "    <tr>\n",
              "      <th>2011</th>\n",
              "      <td>8</td>\n",
              "    </tr>\n",
              "  </tbody>\n",
              "</table>\n",
              "</div><br><label><b>dtype:</b> int64</label>"
            ]
          },
          "metadata": {},
          "execution_count": 80
        }
      ]
    },
    {
      "cell_type": "markdown",
      "source": [
        "Conta a quantidade de ocorrências de cada mês na coluna de índice do DataFrame df_clean, assumindo que o índice seja de tipo datetime."
      ],
      "metadata": {
        "id": "82NgPISbXrnw"
      }
    },
    {
      "cell_type": "code",
      "metadata": {
        "id": "HENxYvNH2Pr_",
        "colab": {
          "base_uri": "https://localhost:8080/",
          "height": 492
        },
        "outputId": "97034636-c1ef-47cb-a145-5f33bfc04a14"
      },
      "source": [
        "df_clean.index.month.value_counts()"
      ],
      "execution_count": 81,
      "outputs": [
        {
          "output_type": "execute_result",
          "data": {
            "text/plain": [
              "time\n",
              "8     1290\n",
              "10    1151\n",
              "6     1107\n",
              "7     1034\n",
              "11    1020\n",
              "9     1013\n",
              "1      839\n",
              "5      817\n",
              "3      798\n",
              "2      787\n",
              "4      702\n",
              "12     638\n",
              "Name: count, dtype: int64"
            ],
            "text/html": [
              "<div>\n",
              "<style scoped>\n",
              "    .dataframe tbody tr th:only-of-type {\n",
              "        vertical-align: middle;\n",
              "    }\n",
              "\n",
              "    .dataframe tbody tr th {\n",
              "        vertical-align: top;\n",
              "    }\n",
              "\n",
              "    .dataframe thead th {\n",
              "        text-align: right;\n",
              "    }\n",
              "</style>\n",
              "<table border=\"1\" class=\"dataframe\">\n",
              "  <thead>\n",
              "    <tr style=\"text-align: right;\">\n",
              "      <th></th>\n",
              "      <th>count</th>\n",
              "    </tr>\n",
              "    <tr>\n",
              "      <th>time</th>\n",
              "      <th></th>\n",
              "    </tr>\n",
              "  </thead>\n",
              "  <tbody>\n",
              "    <tr>\n",
              "      <th>8</th>\n",
              "      <td>1290</td>\n",
              "    </tr>\n",
              "    <tr>\n",
              "      <th>10</th>\n",
              "      <td>1151</td>\n",
              "    </tr>\n",
              "    <tr>\n",
              "      <th>6</th>\n",
              "      <td>1107</td>\n",
              "    </tr>\n",
              "    <tr>\n",
              "      <th>7</th>\n",
              "      <td>1034</td>\n",
              "    </tr>\n",
              "    <tr>\n",
              "      <th>11</th>\n",
              "      <td>1020</td>\n",
              "    </tr>\n",
              "    <tr>\n",
              "      <th>9</th>\n",
              "      <td>1013</td>\n",
              "    </tr>\n",
              "    <tr>\n",
              "      <th>1</th>\n",
              "      <td>839</td>\n",
              "    </tr>\n",
              "    <tr>\n",
              "      <th>5</th>\n",
              "      <td>817</td>\n",
              "    </tr>\n",
              "    <tr>\n",
              "      <th>3</th>\n",
              "      <td>798</td>\n",
              "    </tr>\n",
              "    <tr>\n",
              "      <th>2</th>\n",
              "      <td>787</td>\n",
              "    </tr>\n",
              "    <tr>\n",
              "      <th>4</th>\n",
              "      <td>702</td>\n",
              "    </tr>\n",
              "    <tr>\n",
              "      <th>12</th>\n",
              "      <td>638</td>\n",
              "    </tr>\n",
              "  </tbody>\n",
              "</table>\n",
              "</div><br><label><b>dtype:</b> int64</label>"
            ]
          },
          "metadata": {},
          "execution_count": 81
        }
      ]
    },
    {
      "cell_type": "markdown",
      "source": [
        "Conta quantas ocorrências existem para cada dia do mês no índice do DataFrame df_clean."
      ],
      "metadata": {
        "id": "8paB21SuXekf"
      }
    },
    {
      "cell_type": "code",
      "metadata": {
        "id": "JfUk4YzD2QCt",
        "colab": {
          "base_uri": "https://localhost:8080/",
          "height": 1000
        },
        "outputId": "c2e9ccea-9c0e-4467-e174-cae923d5694a"
      },
      "source": [
        "df_clean.index.day.value_counts()"
      ],
      "execution_count": 82,
      "outputs": [
        {
          "output_type": "execute_result",
          "data": {
            "text/plain": [
              "time\n",
              "11    463\n",
              "15    446\n",
              "10    443\n",
              "20    442\n",
              "14    412\n",
              "8     405\n",
              "1     403\n",
              "16    395\n",
              "13    384\n",
              "7     380\n",
              "12    378\n",
              "25    372\n",
              "4     362\n",
              "18    361\n",
              "6     361\n",
              "22    358\n",
              "5     354\n",
              "17    353\n",
              "9     352\n",
              "23    351\n",
              "3     348\n",
              "26    346\n",
              "19    342\n",
              "24    336\n",
              "2     328\n",
              "21    326\n",
              "27    319\n",
              "28    313\n",
              "30    303\n",
              "29    274\n",
              "31    186\n",
              "Name: count, dtype: int64"
            ],
            "text/html": [
              "<div>\n",
              "<style scoped>\n",
              "    .dataframe tbody tr th:only-of-type {\n",
              "        vertical-align: middle;\n",
              "    }\n",
              "\n",
              "    .dataframe tbody tr th {\n",
              "        vertical-align: top;\n",
              "    }\n",
              "\n",
              "    .dataframe thead th {\n",
              "        text-align: right;\n",
              "    }\n",
              "</style>\n",
              "<table border=\"1\" class=\"dataframe\">\n",
              "  <thead>\n",
              "    <tr style=\"text-align: right;\">\n",
              "      <th></th>\n",
              "      <th>count</th>\n",
              "    </tr>\n",
              "    <tr>\n",
              "      <th>time</th>\n",
              "      <th></th>\n",
              "    </tr>\n",
              "  </thead>\n",
              "  <tbody>\n",
              "    <tr>\n",
              "      <th>11</th>\n",
              "      <td>463</td>\n",
              "    </tr>\n",
              "    <tr>\n",
              "      <th>15</th>\n",
              "      <td>446</td>\n",
              "    </tr>\n",
              "    <tr>\n",
              "      <th>10</th>\n",
              "      <td>443</td>\n",
              "    </tr>\n",
              "    <tr>\n",
              "      <th>20</th>\n",
              "      <td>442</td>\n",
              "    </tr>\n",
              "    <tr>\n",
              "      <th>14</th>\n",
              "      <td>412</td>\n",
              "    </tr>\n",
              "    <tr>\n",
              "      <th>8</th>\n",
              "      <td>405</td>\n",
              "    </tr>\n",
              "    <tr>\n",
              "      <th>1</th>\n",
              "      <td>403</td>\n",
              "    </tr>\n",
              "    <tr>\n",
              "      <th>16</th>\n",
              "      <td>395</td>\n",
              "    </tr>\n",
              "    <tr>\n",
              "      <th>13</th>\n",
              "      <td>384</td>\n",
              "    </tr>\n",
              "    <tr>\n",
              "      <th>7</th>\n",
              "      <td>380</td>\n",
              "    </tr>\n",
              "    <tr>\n",
              "      <th>12</th>\n",
              "      <td>378</td>\n",
              "    </tr>\n",
              "    <tr>\n",
              "      <th>25</th>\n",
              "      <td>372</td>\n",
              "    </tr>\n",
              "    <tr>\n",
              "      <th>4</th>\n",
              "      <td>362</td>\n",
              "    </tr>\n",
              "    <tr>\n",
              "      <th>18</th>\n",
              "      <td>361</td>\n",
              "    </tr>\n",
              "    <tr>\n",
              "      <th>6</th>\n",
              "      <td>361</td>\n",
              "    </tr>\n",
              "    <tr>\n",
              "      <th>22</th>\n",
              "      <td>358</td>\n",
              "    </tr>\n",
              "    <tr>\n",
              "      <th>5</th>\n",
              "      <td>354</td>\n",
              "    </tr>\n",
              "    <tr>\n",
              "      <th>17</th>\n",
              "      <td>353</td>\n",
              "    </tr>\n",
              "    <tr>\n",
              "      <th>9</th>\n",
              "      <td>352</td>\n",
              "    </tr>\n",
              "    <tr>\n",
              "      <th>23</th>\n",
              "      <td>351</td>\n",
              "    </tr>\n",
              "    <tr>\n",
              "      <th>3</th>\n",
              "      <td>348</td>\n",
              "    </tr>\n",
              "    <tr>\n",
              "      <th>26</th>\n",
              "      <td>346</td>\n",
              "    </tr>\n",
              "    <tr>\n",
              "      <th>19</th>\n",
              "      <td>342</td>\n",
              "    </tr>\n",
              "    <tr>\n",
              "      <th>24</th>\n",
              "      <td>336</td>\n",
              "    </tr>\n",
              "    <tr>\n",
              "      <th>2</th>\n",
              "      <td>328</td>\n",
              "    </tr>\n",
              "    <tr>\n",
              "      <th>21</th>\n",
              "      <td>326</td>\n",
              "    </tr>\n",
              "    <tr>\n",
              "      <th>27</th>\n",
              "      <td>319</td>\n",
              "    </tr>\n",
              "    <tr>\n",
              "      <th>28</th>\n",
              "      <td>313</td>\n",
              "    </tr>\n",
              "    <tr>\n",
              "      <th>30</th>\n",
              "      <td>303</td>\n",
              "    </tr>\n",
              "    <tr>\n",
              "      <th>29</th>\n",
              "      <td>274</td>\n",
              "    </tr>\n",
              "    <tr>\n",
              "      <th>31</th>\n",
              "      <td>186</td>\n",
              "    </tr>\n",
              "  </tbody>\n",
              "</table>\n",
              "</div><br><label><b>dtype:</b> int64</label>"
            ]
          },
          "metadata": {},
          "execution_count": 82
        }
      ]
    },
    {
      "cell_type": "markdown",
      "source": [
        "Conta quantos registros existem para cada dia da semana (de segunda a domingo) no índice do DataFrame df_clean."
      ],
      "metadata": {
        "id": "BhtnRoX7XNzQ"
      }
    },
    {
      "cell_type": "code",
      "metadata": {
        "id": "P0JO3RLQ2kX2",
        "colab": {
          "base_uri": "https://localhost:8080/",
          "height": 335
        },
        "outputId": "255797a0-f7c5-4c53-f0c2-e811e394bfdc"
      },
      "source": [
        "df_clean.index.weekday.value_counts()"
      ],
      "execution_count": 83,
      "outputs": [
        {
          "output_type": "execute_result",
          "data": {
            "text/plain": [
              "time\n",
              "4    1819\n",
              "2    1797\n",
              "3    1776\n",
              "1    1658\n",
              "5    1491\n",
              "0    1420\n",
              "6    1235\n",
              "Name: count, dtype: int64"
            ],
            "text/html": [
              "<div>\n",
              "<style scoped>\n",
              "    .dataframe tbody tr th:only-of-type {\n",
              "        vertical-align: middle;\n",
              "    }\n",
              "\n",
              "    .dataframe tbody tr th {\n",
              "        vertical-align: top;\n",
              "    }\n",
              "\n",
              "    .dataframe thead th {\n",
              "        text-align: right;\n",
              "    }\n",
              "</style>\n",
              "<table border=\"1\" class=\"dataframe\">\n",
              "  <thead>\n",
              "    <tr style=\"text-align: right;\">\n",
              "      <th></th>\n",
              "      <th>count</th>\n",
              "    </tr>\n",
              "    <tr>\n",
              "      <th>time</th>\n",
              "      <th></th>\n",
              "    </tr>\n",
              "  </thead>\n",
              "  <tbody>\n",
              "    <tr>\n",
              "      <th>4</th>\n",
              "      <td>1819</td>\n",
              "    </tr>\n",
              "    <tr>\n",
              "      <th>2</th>\n",
              "      <td>1797</td>\n",
              "    </tr>\n",
              "    <tr>\n",
              "      <th>3</th>\n",
              "      <td>1776</td>\n",
              "    </tr>\n",
              "    <tr>\n",
              "      <th>1</th>\n",
              "      <td>1658</td>\n",
              "    </tr>\n",
              "    <tr>\n",
              "      <th>5</th>\n",
              "      <td>1491</td>\n",
              "    </tr>\n",
              "    <tr>\n",
              "      <th>0</th>\n",
              "      <td>1420</td>\n",
              "    </tr>\n",
              "    <tr>\n",
              "      <th>6</th>\n",
              "      <td>1235</td>\n",
              "    </tr>\n",
              "  </tbody>\n",
              "</table>\n",
              "</div><br><label><b>dtype:</b> int64</label>"
            ]
          },
          "metadata": {},
          "execution_count": 83
        }
      ]
    },
    {
      "cell_type": "markdown",
      "source": [
        "Cria uma visualização de barras que mostra o número de crimes por ano no DataFrame df_clean."
      ],
      "metadata": {
        "id": "AuXn5FcmW5x7"
      }
    },
    {
      "cell_type": "code",
      "metadata": {
        "id": "W_ssqJdkzNMA",
        "colab": {
          "base_uri": "https://localhost:8080/",
          "height": 711
        },
        "outputId": "183d38f1-7721-4db8-f736-b3a5f26cd79c"
      },
      "source": [
        "fig = plt.figure(figsize=(10,8))\n",
        "df_clean.groupby([df_clean.index.year]).size().plot(kind='bar')\n",
        "\n",
        "plt.title('Número de Crimes por Ano',fontsize=19)\n",
        "plt.xlabel('')\n",
        "plt.yticks(fontsize=13)\n",
        "plt.xticks(fontsize=13,rotation=360);"
      ],
      "execution_count": 84,
      "outputs": [
        {
          "output_type": "display_data",
          "data": {
            "text/plain": [
              "<Figure size 1000x800 with 1 Axes>"
            ],
            "image/png": "[encoded data removed]"
          },
          "metadata": {}
        }
      ]
    },
    {
      "cell_type": "markdown",
      "source": [
        "Distribuição de registros por mês no ano"
      ],
      "metadata": {
        "id": "mDAnkv45Wt9o"
      }
    },
    {
      "cell_type": "code",
      "metadata": {
        "id": "D13nPFA6ftTF",
        "colab": {
          "base_uri": "https://localhost:8080/",
          "height": 478
        },
        "outputId": "9343cbbb-4397-4fc3-b433-fa5013456d5b"
      },
      "source": [
        "fig = plt.figure(figsize=(17,5))\n",
        "df_clean.groupby([df_clean.index.month]).size().plot(kind='bar')\n",
        "plt.title('Meses do ano',fontsize=19)\n",
        "plt.xticks(fontsize=13,rotation=360)\n",
        "plt.xlabel('')\n",
        "plt.yticks(fontsize=13);"
      ],
      "execution_count": 85,
      "outputs": [
        {
          "output_type": "display_data",
          "data": {
            "text/plain": [
              "<Figure size 1700x500 with 1 Axes>"
            ],
            "image/png": "[encoded data removed]"
          },
          "metadata": {}
        }
      ]
    },
    {
      "cell_type": "markdown",
      "source": [
        "Gráfico de barras que mostra a quantidade de ocorrências registradas em cada dia do mês."
      ],
      "metadata": {
        "id": "0JplSMiIWhL9"
      }
    },
    {
      "cell_type": "code",
      "metadata": {
        "id": "pbiAG0EtcExc",
        "colab": {
          "base_uri": "https://localhost:8080/",
          "height": 478
        },
        "outputId": "9a90a9ec-a68a-4d22-f13f-00127f32fe06"
      },
      "source": [
        "fig = plt.figure(figsize=(15,5))\n",
        "df_clean.groupby([df_clean.index.day]).size().plot.bar()\n",
        "plt.title('Dias do mês',fontsize=19)\n",
        "plt.xticks(fontsize=13,rotation=360)\n",
        "plt.xlabel('')\n",
        "plt.yticks(fontsize=13);"
      ],
      "execution_count": 86,
      "outputs": [
        {
          "output_type": "display_data",
          "data": {
            "text/plain": [
              "<Figure size 1500x500 with 1 Axes>"
            ],
            "image/png": "[encoded data removed]"
          },
          "metadata": {}
        }
      ]
    },
    {
      "cell_type": "markdown",
      "source": [
        "Gráfico de barras que mostra a quantidade de ocorrências por dia da semana."
      ],
      "metadata": {
        "id": "oBc0vb-tWXZt"
      }
    },
    {
      "cell_type": "code",
      "metadata": {
        "id": "qPjIdMQM2rAX",
        "colab": {
          "base_uri": "https://localhost:8080/",
          "height": 478
        },
        "outputId": "97ee547f-4225-4fd5-f357-63df9a49daf5"
      },
      "source": [
        "fig = plt.figure(figsize=(10,5))\n",
        "df_clean.groupby([df_clean.index.weekday]).size().plot.bar()\n",
        "plt.title('Dias da semana',fontsize=19)\n",
        "plt.xticks(fontsize=13,rotation=360)\n",
        "plt.xlabel('')\n",
        "plt.yticks(fontsize=13);"
      ],
      "execution_count": 87,
      "outputs": [
        {
          "output_type": "display_data",
          "data": {
            "text/plain": [
              "<Figure size 1000x500 with 1 Axes>"
            ],
            "image/png": "[encoded data removed]"
          },
          "metadata": {}
        }
      ]
    },
    {
      "cell_type": "markdown",
      "metadata": {
        "id": "K5VI70nzneeg"
      },
      "source": [
        "#CONCLUSÕES"
      ]
    },
    {
      "cell_type": "markdown",
      "metadata": {
        "id": "hevGQGmkavvg"
      },
      "source": [
        "##Conclusão da análise\n",
        "\n",
        "Temos, então, algumas conclusões a partir dos dados disponibilizados pela plataforma:\n",
        "\n",
        "*   Os **homens** são as maiores vítimas dos crimes (**61,25%**);\n",
        "\n",
        "*   O item mais roubado foi o **celular** (**24,54%**);\n",
        "\n",
        "*   O maior prejuízo foi de **R$1.000.000** (UM MILHÃO);\n",
        "\n",
        "*   A maioria das pessoas registraram BO (**59,31%**);\n",
        "\n",
        "*   O bairro com mais ocorrência de crimes foi **São Paulo** (**5,62%**);\n",
        "\n",
        "*   O **ano** em que mais foram registradas ocorrências: **2014**;\n",
        "\n",
        "*   O **mês** em que mais foram registradas ocorrências: **Agosto**\n",
        "\n",
        "*   O **dia do mês** em que mais foram registradas ocorrências: **10 a 15**\n",
        "\n",
        "*   O **dia da semana** em que mais foram registradas ocorrências: **Quinta-feira**\n"
      ]
    },
    {
      "cell_type": "markdown",
      "metadata": {
        "id": "s99n2_FCdhGe"
      },
      "source": [
        "##Conclusão final\n",
        "\n",
        "---\n",
        "\n",
        "Sabemos que dados são importantes para a tomada de decisões, o que nos falta é ter fácil acesso a esses dados. E é isso que a plataforma aqui analisada se propõe a fazer.\n",
        "\n",
        "Vemos hoje muitas pessoas com tecnologias nas mãos, com tudo à um clique de distância, tendo o celular como extensão do próprio corpo. Não há nem a necessidade de consultar, pois as notificações baseadas na localização (GPS) do aparelho podem fazer todo o trabalho.\n",
        "\n",
        "Em tempos de conexão, o governo deve se atualizar constantemente e informar suas instituições e seus cidadãos. O governo precisa estar apto às mudanças sociais provocadas pelas inovações tecnológicas, e se aproveitar dessas inovações para facilitar o convívio em sociedade. O tema aqui tratado foi sobre violência urbana, mas as inovações estão chegando em diversas áreas (**comunicação, emprego, saneamento, cultura, lazer, mobilidade urbana, etc**.) e isso deve ser aproveitado com o objetivo último de tornar as políticas públicas mais eficientes e levá-las até os locais de mais difícil acesso.\n",
        "\n",
        "\"As tecnologias sociais são produtos, técnicas ou metodologias reaplicáveis, desenvolvidas em interação com a comunidade, e que representem efetivas soluções de transformação social. São experiências inovadoras que contribuem para resolver grandes problemas sociais.\" [[3]](http://www.mobilizadores.org.br/entrevistas/tecnologias-sociais-possibilitam-modelos-alternativos-de-desenvolvimento/)\n",
        "\n",
        "A sociedade pode levar vantagem disso se houverem parcerias que se dediquem à informar os cidadãos sobre o que está acontecendo em seu território e no seio da própria sociedade. Informar sobre a violência é algo crucial para quem deseja reduzir esses números, e ser informado é importante para quem deseja evitar ser assaltado. Então é de interesse do cidadão ser informado, e deve ser obrigação do governo e de suas instituições, informar.\n",
        "\n",
        "“*Inovação não é feita apenas usando tecnologia. A tecnologia pode ser um meio, mas ver e transformar um jeito de fazer algo, mudar a forma como encaramos desafios, tudo isso pode ser visto e feito de forma inovadora.*” - Gustavo Maia"
      ]
    },
    {
      "cell_type": "markdown",
      "metadata": {
        "id": "0HKMZSz_hJer"
      },
      "source": [
        "#REFERÊNCIAS\n",
        "\n",
        "---\n",
        "[1] http://www.ssp.sp.gov.br/transparenciassp/Default.aspx\n",
        "\n",
        "[2] https://www.techtudo.com.br/tudo-sobre/onde-fui-roubado.html\n",
        "\n",
        "[3] http://www.mobilizadores.org.br/entrevistas/tecnologias-sociais-possibilitam-modelos-alternativos-de-desenvolvimento/\n",
        "\n",
        "## Leituras complementares:\n",
        "\n",
        "https://www.colab.re/conteudo/tecnologia-um-meio-para-governos-inovarem\n",
        "\n",
        "https://www.digix.com.br/tecnologia-no-setor-publico-quais-sao-os-desafios-e-necessidades/\n",
        "\n",
        "https://www.e-gestaopublica.com.br/inovacao-e-governo/"
      ]
    }
  ]
}